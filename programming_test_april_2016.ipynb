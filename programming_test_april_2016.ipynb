{
 "cells": [
  {
   "cell_type": "code",
   "execution_count": 318,
   "metadata": {
    "collapsed": false
   },
   "outputs": [],
   "source": [
    "# Standard\n",
    "import tempfile\n",
    "import os\n",
    "import sys\n",
    "import pyparsing\n",
    "from pyparsing import Word, alphas, Suppress, Combine, nums, string, Optional, Regex, ParseException\n",
    "import pandas as pd\n",
    "import time\n",
    "import itertools"
   ]
  },
  {
   "cell_type": "code",
   "execution_count": 319,
   "metadata": {
    "collapsed": true
   },
   "outputs": [],
   "source": [
    "logfilecontent = '''\n",
    "timestamp;call;arguments\n",
    "1461864401;hello;world\n",
    "1461864403;end;\n",
    "1461864404;complex_operation;1,2,3,4\n",
    "1461864407;multiply;1,2,3,4\n",
    "1461864408;end;\n",
    "1461864409;multiply;1,2,3,4\n",
    "1461864410;end;\n",
    "1461864411;end;\n",
    "1461864415;multiply;5,6,7,8,9\n",
    "1461864416;end;\n",
    "1461864417;complex_operation;1,2,3,4\n",
    "1461864421;add;1,2,3,4\n",
    "1461864422;end;\n",
    "1461864423;add;1,2,3,4\n",
    "1461864424;end;\n",
    "1461864425;end;\n",
    "'''"
   ]
  },
  {
   "cell_type": "code",
   "execution_count": 320,
   "metadata": {
    "collapsed": false
   },
   "outputs": [],
   "source": [
    "timestamp = Word(nums)\n",
    "call = Word(alphas + \"_\" + \"-\")\n",
    "arguments = Word(alphas + nums + \",\" )"
   ]
  },
  {
   "cell_type": "code",
   "execution_count": 321,
   "metadata": {
    "collapsed": false
   },
   "outputs": [],
   "source": [
    "bnf = ( timestamp + ';' + call + ';' + Optional(arguments) )"
   ]
  },
  {
   "cell_type": "code",
   "execution_count": 322,
   "metadata": {
    "collapsed": false
   },
   "outputs": [
    {
     "name": "stdout",
     "output_type": "stream",
     "text": [
      "[(['1461864401', ';', 'hello', ';', 'world'], {}), (['1461864403', ';', 'end', ';', 'NULL'], {}), (['1461864404', ';', 'complex_operation', ';', '1,2,3,4'], {}), (['1461864407', ';', 'multiply', ';', '1,2,3,4'], {}), (['1461864408', ';', 'end', ';', 'NULL'], {}), (['1461864409', ';', 'multiply', ';', '1,2,3,4'], {}), (['1461864410', ';', 'end', ';', 'NULL'], {}), (['1461864411', ';', 'end', ';', 'NULL'], {}), (['1461864415', ';', 'multiply', ';', '5,6,7,8,9'], {}), (['1461864416', ';', 'end', ';', 'NULL'], {}), (['1461864417', ';', 'complex_operation', ';', '1,2,3,4'], {}), (['1461864421', ';', 'add', ';', '1,2,3,4'], {}), (['1461864422', ';', 'end', ';', 'NULL'], {}), (['1461864423', ';', 'add', ';', '1,2,3,4'], {}), (['1461864424', ';', 'end', ';', 'NULL'], {}), (['1461864425', ';', 'end', ';', 'NULL'], {})]\n"
     ]
    }
   ],
   "source": [
    "def make_tempfile():\n",
    "    fd, temp_file_name = tempfile.mkstemp()\n",
    "    os.close(fd)\n",
    "    f = open(temp_file_name,'wt')\n",
    "    try:\n",
    "        f.write(logfilecontent)\n",
    "    finally:\n",
    "        f.close()\n",
    "    return temp_file_name\n",
    "\n",
    "def cleanup(filename):\n",
    "    os.unlink(filename)\n",
    "        \n",
    "filename = make_tempfile()\n",
    "\n",
    "L=list()\n",
    "with open(filename) as infile:\n",
    "   for line in infile:\n",
    "        try:\n",
    "           results = bnf.parseString(line)\n",
    "        except ParseException as pe:\n",
    "            continue\n",
    "        else:\n",
    "           if (len(results) < 5 ):\n",
    "            results.append('NULL')\n",
    "           L.append(results)\n",
    "           \n",
    "print(L)\n",
    "cleanup(filename)        "
   ]
  },
  {
   "cell_type": "code",
   "execution_count": 323,
   "metadata": {
    "collapsed": false
   },
   "outputs": [],
   "source": [
    "# Columns naming \n",
    "dframe = pd.DataFrame(L,columns=['timestamp','semicolon','call','semicolon','arguments'])"
   ]
  },
  {
   "cell_type": "code",
   "execution_count": 324,
   "metadata": {
    "collapsed": false
   },
   "outputs": [
    {
     "data": {
      "text/html": [
       "<div>\n",
       "<table border=\"1\" class=\"dataframe\">\n",
       "  <thead>\n",
       "    <tr style=\"text-align: right;\">\n",
       "      <th></th>\n",
       "      <th>timestamp</th>\n",
       "      <th>semicolon</th>\n",
       "      <th>call</th>\n",
       "      <th>semicolon</th>\n",
       "      <th>arguments</th>\n",
       "    </tr>\n",
       "  </thead>\n",
       "  <tbody>\n",
       "    <tr>\n",
       "      <th>0</th>\n",
       "      <td>1461864401</td>\n",
       "      <td>;</td>\n",
       "      <td>hello</td>\n",
       "      <td>;</td>\n",
       "      <td>world</td>\n",
       "    </tr>\n",
       "    <tr>\n",
       "      <th>1</th>\n",
       "      <td>1461864403</td>\n",
       "      <td>;</td>\n",
       "      <td>end</td>\n",
       "      <td>;</td>\n",
       "      <td>NULL</td>\n",
       "    </tr>\n",
       "    <tr>\n",
       "      <th>2</th>\n",
       "      <td>1461864404</td>\n",
       "      <td>;</td>\n",
       "      <td>complex_operation</td>\n",
       "      <td>;</td>\n",
       "      <td>1,2,3,4</td>\n",
       "    </tr>\n",
       "    <tr>\n",
       "      <th>3</th>\n",
       "      <td>1461864407</td>\n",
       "      <td>;</td>\n",
       "      <td>multiply</td>\n",
       "      <td>;</td>\n",
       "      <td>1,2,3,4</td>\n",
       "    </tr>\n",
       "    <tr>\n",
       "      <th>4</th>\n",
       "      <td>1461864408</td>\n",
       "      <td>;</td>\n",
       "      <td>end</td>\n",
       "      <td>;</td>\n",
       "      <td>NULL</td>\n",
       "    </tr>\n",
       "    <tr>\n",
       "      <th>5</th>\n",
       "      <td>1461864409</td>\n",
       "      <td>;</td>\n",
       "      <td>multiply</td>\n",
       "      <td>;</td>\n",
       "      <td>1,2,3,4</td>\n",
       "    </tr>\n",
       "    <tr>\n",
       "      <th>6</th>\n",
       "      <td>1461864410</td>\n",
       "      <td>;</td>\n",
       "      <td>end</td>\n",
       "      <td>;</td>\n",
       "      <td>NULL</td>\n",
       "    </tr>\n",
       "    <tr>\n",
       "      <th>7</th>\n",
       "      <td>1461864411</td>\n",
       "      <td>;</td>\n",
       "      <td>end</td>\n",
       "      <td>;</td>\n",
       "      <td>NULL</td>\n",
       "    </tr>\n",
       "    <tr>\n",
       "      <th>8</th>\n",
       "      <td>1461864415</td>\n",
       "      <td>;</td>\n",
       "      <td>multiply</td>\n",
       "      <td>;</td>\n",
       "      <td>5,6,7,8,9</td>\n",
       "    </tr>\n",
       "    <tr>\n",
       "      <th>9</th>\n",
       "      <td>1461864416</td>\n",
       "      <td>;</td>\n",
       "      <td>end</td>\n",
       "      <td>;</td>\n",
       "      <td>NULL</td>\n",
       "    </tr>\n",
       "    <tr>\n",
       "      <th>10</th>\n",
       "      <td>1461864417</td>\n",
       "      <td>;</td>\n",
       "      <td>complex_operation</td>\n",
       "      <td>;</td>\n",
       "      <td>1,2,3,4</td>\n",
       "    </tr>\n",
       "    <tr>\n",
       "      <th>11</th>\n",
       "      <td>1461864421</td>\n",
       "      <td>;</td>\n",
       "      <td>add</td>\n",
       "      <td>;</td>\n",
       "      <td>1,2,3,4</td>\n",
       "    </tr>\n",
       "    <tr>\n",
       "      <th>12</th>\n",
       "      <td>1461864422</td>\n",
       "      <td>;</td>\n",
       "      <td>end</td>\n",
       "      <td>;</td>\n",
       "      <td>NULL</td>\n",
       "    </tr>\n",
       "    <tr>\n",
       "      <th>13</th>\n",
       "      <td>1461864423</td>\n",
       "      <td>;</td>\n",
       "      <td>add</td>\n",
       "      <td>;</td>\n",
       "      <td>1,2,3,4</td>\n",
       "    </tr>\n",
       "    <tr>\n",
       "      <th>14</th>\n",
       "      <td>1461864424</td>\n",
       "      <td>;</td>\n",
       "      <td>end</td>\n",
       "      <td>;</td>\n",
       "      <td>NULL</td>\n",
       "    </tr>\n",
       "    <tr>\n",
       "      <th>15</th>\n",
       "      <td>1461864425</td>\n",
       "      <td>;</td>\n",
       "      <td>end</td>\n",
       "      <td>;</td>\n",
       "      <td>NULL</td>\n",
       "    </tr>\n",
       "  </tbody>\n",
       "</table>\n",
       "</div>"
      ],
      "text/plain": [
       "     timestamp semicolon               call semicolon  arguments\n",
       "0   1461864401         ;              hello         ;      world\n",
       "1   1461864403         ;                end         ;       NULL\n",
       "2   1461864404         ;  complex_operation         ;    1,2,3,4\n",
       "3   1461864407         ;           multiply         ;    1,2,3,4\n",
       "4   1461864408         ;                end         ;       NULL\n",
       "5   1461864409         ;           multiply         ;    1,2,3,4\n",
       "6   1461864410         ;                end         ;       NULL\n",
       "7   1461864411         ;                end         ;       NULL\n",
       "8   1461864415         ;           multiply         ;  5,6,7,8,9\n",
       "9   1461864416         ;                end         ;       NULL\n",
       "10  1461864417         ;  complex_operation         ;    1,2,3,4\n",
       "11  1461864421         ;                add         ;    1,2,3,4\n",
       "12  1461864422         ;                end         ;       NULL\n",
       "13  1461864423         ;                add         ;    1,2,3,4\n",
       "14  1461864424         ;                end         ;       NULL\n",
       "15  1461864425         ;                end         ;       NULL"
      ]
     },
     "execution_count": 324,
     "metadata": {},
     "output_type": "execute_result"
    }
   ],
   "source": [
    "dframe\n"
   ]
  },
  {
   "cell_type": "code",
   "execution_count": 325,
   "metadata": {
    "collapsed": false
   },
   "outputs": [],
   "source": [
    "del dframe['semicolon']"
   ]
  },
  {
   "cell_type": "code",
   "execution_count": 326,
   "metadata": {
    "collapsed": false
   },
   "outputs": [
    {
     "data": {
      "text/html": [
       "<div>\n",
       "<table border=\"1\" class=\"dataframe\">\n",
       "  <thead>\n",
       "    <tr style=\"text-align: right;\">\n",
       "      <th></th>\n",
       "      <th>timestamp</th>\n",
       "      <th>call</th>\n",
       "      <th>arguments</th>\n",
       "    </tr>\n",
       "  </thead>\n",
       "  <tbody>\n",
       "    <tr>\n",
       "      <th>0</th>\n",
       "      <td>1461864401</td>\n",
       "      <td>hello</td>\n",
       "      <td>world</td>\n",
       "    </tr>\n",
       "    <tr>\n",
       "      <th>1</th>\n",
       "      <td>1461864403</td>\n",
       "      <td>end</td>\n",
       "      <td>NULL</td>\n",
       "    </tr>\n",
       "    <tr>\n",
       "      <th>2</th>\n",
       "      <td>1461864404</td>\n",
       "      <td>complex_operation</td>\n",
       "      <td>1,2,3,4</td>\n",
       "    </tr>\n",
       "    <tr>\n",
       "      <th>3</th>\n",
       "      <td>1461864407</td>\n",
       "      <td>multiply</td>\n",
       "      <td>1,2,3,4</td>\n",
       "    </tr>\n",
       "    <tr>\n",
       "      <th>4</th>\n",
       "      <td>1461864408</td>\n",
       "      <td>end</td>\n",
       "      <td>NULL</td>\n",
       "    </tr>\n",
       "    <tr>\n",
       "      <th>5</th>\n",
       "      <td>1461864409</td>\n",
       "      <td>multiply</td>\n",
       "      <td>1,2,3,4</td>\n",
       "    </tr>\n",
       "    <tr>\n",
       "      <th>6</th>\n",
       "      <td>1461864410</td>\n",
       "      <td>end</td>\n",
       "      <td>NULL</td>\n",
       "    </tr>\n",
       "    <tr>\n",
       "      <th>7</th>\n",
       "      <td>1461864411</td>\n",
       "      <td>end</td>\n",
       "      <td>NULL</td>\n",
       "    </tr>\n",
       "    <tr>\n",
       "      <th>8</th>\n",
       "      <td>1461864415</td>\n",
       "      <td>multiply</td>\n",
       "      <td>5,6,7,8,9</td>\n",
       "    </tr>\n",
       "    <tr>\n",
       "      <th>9</th>\n",
       "      <td>1461864416</td>\n",
       "      <td>end</td>\n",
       "      <td>NULL</td>\n",
       "    </tr>\n",
       "    <tr>\n",
       "      <th>10</th>\n",
       "      <td>1461864417</td>\n",
       "      <td>complex_operation</td>\n",
       "      <td>1,2,3,4</td>\n",
       "    </tr>\n",
       "    <tr>\n",
       "      <th>11</th>\n",
       "      <td>1461864421</td>\n",
       "      <td>add</td>\n",
       "      <td>1,2,3,4</td>\n",
       "    </tr>\n",
       "    <tr>\n",
       "      <th>12</th>\n",
       "      <td>1461864422</td>\n",
       "      <td>end</td>\n",
       "      <td>NULL</td>\n",
       "    </tr>\n",
       "    <tr>\n",
       "      <th>13</th>\n",
       "      <td>1461864423</td>\n",
       "      <td>add</td>\n",
       "      <td>1,2,3,4</td>\n",
       "    </tr>\n",
       "    <tr>\n",
       "      <th>14</th>\n",
       "      <td>1461864424</td>\n",
       "      <td>end</td>\n",
       "      <td>NULL</td>\n",
       "    </tr>\n",
       "    <tr>\n",
       "      <th>15</th>\n",
       "      <td>1461864425</td>\n",
       "      <td>end</td>\n",
       "      <td>NULL</td>\n",
       "    </tr>\n",
       "  </tbody>\n",
       "</table>\n",
       "</div>"
      ],
      "text/plain": [
       "     timestamp               call  arguments\n",
       "0   1461864401              hello      world\n",
       "1   1461864403                end       NULL\n",
       "2   1461864404  complex_operation    1,2,3,4\n",
       "3   1461864407           multiply    1,2,3,4\n",
       "4   1461864408                end       NULL\n",
       "5   1461864409           multiply    1,2,3,4\n",
       "6   1461864410                end       NULL\n",
       "7   1461864411                end       NULL\n",
       "8   1461864415           multiply  5,6,7,8,9\n",
       "9   1461864416                end       NULL\n",
       "10  1461864417  complex_operation    1,2,3,4\n",
       "11  1461864421                add    1,2,3,4\n",
       "12  1461864422                end       NULL\n",
       "13  1461864423                add    1,2,3,4\n",
       "14  1461864424                end       NULL\n",
       "15  1461864425                end       NULL"
      ]
     },
     "execution_count": 326,
     "metadata": {},
     "output_type": "execute_result"
    }
   ],
   "source": [
    "dframe"
   ]
  },
  {
   "cell_type": "code",
   "execution_count": 327,
   "metadata": {
    "collapsed": false
   },
   "outputs": [
    {
     "data": {
      "text/html": [
       "<div>\n",
       "<table border=\"1\" class=\"dataframe\">\n",
       "  <thead>\n",
       "    <tr style=\"text-align: right;\">\n",
       "      <th></th>\n",
       "      <th>timestamp</th>\n",
       "      <th>call</th>\n",
       "      <th>arguments</th>\n",
       "    </tr>\n",
       "  </thead>\n",
       "  <tbody>\n",
       "    <tr>\n",
       "      <th>15</th>\n",
       "      <td>1461864425</td>\n",
       "      <td>end</td>\n",
       "      <td>NULL</td>\n",
       "    </tr>\n",
       "    <tr>\n",
       "      <th>14</th>\n",
       "      <td>1461864424</td>\n",
       "      <td>end</td>\n",
       "      <td>NULL</td>\n",
       "    </tr>\n",
       "    <tr>\n",
       "      <th>13</th>\n",
       "      <td>1461864423</td>\n",
       "      <td>add</td>\n",
       "      <td>1,2,3,4</td>\n",
       "    </tr>\n",
       "    <tr>\n",
       "      <th>12</th>\n",
       "      <td>1461864422</td>\n",
       "      <td>end</td>\n",
       "      <td>NULL</td>\n",
       "    </tr>\n",
       "    <tr>\n",
       "      <th>11</th>\n",
       "      <td>1461864421</td>\n",
       "      <td>add</td>\n",
       "      <td>1,2,3,4</td>\n",
       "    </tr>\n",
       "    <tr>\n",
       "      <th>10</th>\n",
       "      <td>1461864417</td>\n",
       "      <td>complex_operation</td>\n",
       "      <td>1,2,3,4</td>\n",
       "    </tr>\n",
       "    <tr>\n",
       "      <th>9</th>\n",
       "      <td>1461864416</td>\n",
       "      <td>end</td>\n",
       "      <td>NULL</td>\n",
       "    </tr>\n",
       "    <tr>\n",
       "      <th>8</th>\n",
       "      <td>1461864415</td>\n",
       "      <td>multiply</td>\n",
       "      <td>5,6,7,8,9</td>\n",
       "    </tr>\n",
       "    <tr>\n",
       "      <th>7</th>\n",
       "      <td>1461864411</td>\n",
       "      <td>end</td>\n",
       "      <td>NULL</td>\n",
       "    </tr>\n",
       "    <tr>\n",
       "      <th>6</th>\n",
       "      <td>1461864410</td>\n",
       "      <td>end</td>\n",
       "      <td>NULL</td>\n",
       "    </tr>\n",
       "    <tr>\n",
       "      <th>5</th>\n",
       "      <td>1461864409</td>\n",
       "      <td>multiply</td>\n",
       "      <td>1,2,3,4</td>\n",
       "    </tr>\n",
       "    <tr>\n",
       "      <th>4</th>\n",
       "      <td>1461864408</td>\n",
       "      <td>end</td>\n",
       "      <td>NULL</td>\n",
       "    </tr>\n",
       "    <tr>\n",
       "      <th>3</th>\n",
       "      <td>1461864407</td>\n",
       "      <td>multiply</td>\n",
       "      <td>1,2,3,4</td>\n",
       "    </tr>\n",
       "    <tr>\n",
       "      <th>2</th>\n",
       "      <td>1461864404</td>\n",
       "      <td>complex_operation</td>\n",
       "      <td>1,2,3,4</td>\n",
       "    </tr>\n",
       "    <tr>\n",
       "      <th>1</th>\n",
       "      <td>1461864403</td>\n",
       "      <td>end</td>\n",
       "      <td>NULL</td>\n",
       "    </tr>\n",
       "    <tr>\n",
       "      <th>0</th>\n",
       "      <td>1461864401</td>\n",
       "      <td>hello</td>\n",
       "      <td>world</td>\n",
       "    </tr>\n",
       "  </tbody>\n",
       "</table>\n",
       "</div>"
      ],
      "text/plain": [
       "     timestamp               call  arguments\n",
       "15  1461864425                end       NULL\n",
       "14  1461864424                end       NULL\n",
       "13  1461864423                add    1,2,3,4\n",
       "12  1461864422                end       NULL\n",
       "11  1461864421                add    1,2,3,4\n",
       "10  1461864417  complex_operation    1,2,3,4\n",
       "9   1461864416                end       NULL\n",
       "8   1461864415           multiply  5,6,7,8,9\n",
       "7   1461864411                end       NULL\n",
       "6   1461864410                end       NULL\n",
       "5   1461864409           multiply    1,2,3,4\n",
       "4   1461864408                end       NULL\n",
       "3   1461864407           multiply    1,2,3,4\n",
       "2   1461864404  complex_operation    1,2,3,4\n",
       "1   1461864403                end       NULL\n",
       "0   1461864401              hello      world"
      ]
     },
     "execution_count": 327,
     "metadata": {},
     "output_type": "execute_result"
    }
   ],
   "source": [
    "dframe2 = dframe[::-1]\n",
    "dframe2"
   ]
  },
  {
   "cell_type": "code",
   "execution_count": 328,
   "metadata": {
    "collapsed": false
   },
   "outputs": [
    {
     "name": "stdout",
     "output_type": "stream",
     "text": [
      "1461864425 end\n",
      "1461864424 end\n",
      "hello\n",
      "1461864424 end\n",
      "1461864423 add\n",
      "hello\n",
      "1461864423 add\n",
      "1461864422 end\n",
      "hello\n",
      "1461864422 end\n",
      "1461864421 add\n",
      "hello\n",
      "1461864421 add\n",
      "1461864417 complex_operation\n",
      "hello\n",
      "1461864417 complex_operation\n",
      "1461864416 end\n",
      "hello\n",
      "1461864416 end\n",
      "1461864415 multiply\n",
      "hello\n",
      "1461864415 multiply\n",
      "1461864411 end\n",
      "hello\n",
      "1461864411 end\n",
      "1461864410 end\n",
      "hello\n",
      "1461864410 end\n",
      "1461864409 multiply\n",
      "hello\n",
      "1461864409 multiply\n",
      "1461864408 end\n",
      "hello\n",
      "1461864408 end\n",
      "1461864407 multiply\n",
      "hello\n",
      "1461864407 multiply\n",
      "1461864404 complex_operation\n",
      "hello\n",
      "1461864404 complex_operation\n",
      "1461864403 end\n",
      "hello\n",
      "1461864403 end\n",
      "1461864401 hello\n",
      "hello\n"
     ]
    }
   ],
   "source": [
    "C = []\n",
    "dframe2_offset = len(dframe2.index)-2\n",
    "complex_timestamp = 0\n",
    "\n",
    "for id1, id2 in zip(dframe2.iterrows(),dframe2.ix[dframe2_offset:].iterrows()):\n",
    "    print (id1[1]['timestamp'], id1[1]['call'])\n",
    "    print (id2[1]['timestamp'], id2[1]['call'])\n",
    "    print ('hello')\n",
    "    \n",
    "    if id1[1]['call'] == 'end' and id2[1]['call'] != 'end':\n",
    "        C.append((id1[1]['timestamp'], id2[1]['call'], id2[1]['arguments'], id2[1]['timestamp']))\n",
    "    elif  id1[1]['call'] == 'end' and id2[1]['call'] == 'end':\n",
    "        complex_timestamp = id1[1]['timestamp']\n",
    "    elif id1[1]['call'] != 'end' and id2[1]['call'] != 'end':\n",
    "        C.append((complex_timestamp, id2[1]['call'], id2[1]['arguments'], id2[1]['timestamp']))\n",
    "    \n"
   ]
  },
  {
   "cell_type": "code",
   "execution_count": 329,
   "metadata": {
    "collapsed": false
   },
   "outputs": [
    {
     "data": {
      "text/plain": [
       "[('1461864424', 'add', '1,2,3,4', '1461864423'),\n",
       " ('1461864422', 'add', '1,2,3,4', '1461864421'),\n",
       " ('1461864425', 'complex_operation', '1,2,3,4', '1461864417'),\n",
       " ('1461864416', 'multiply', '5,6,7,8,9', '1461864415'),\n",
       " ('1461864410', 'multiply', '1,2,3,4', '1461864409'),\n",
       " ('1461864408', 'multiply', '1,2,3,4', '1461864407'),\n",
       " ('1461864411', 'complex_operation', '1,2,3,4', '1461864404'),\n",
       " ('1461864403', 'hello', 'world', '1461864401')]"
      ]
     },
     "execution_count": 329,
     "metadata": {},
     "output_type": "execute_result"
    }
   ],
   "source": [
    "C"
   ]
  },
  {
   "cell_type": "code",
   "execution_count": 330,
   "metadata": {
    "collapsed": false
   },
   "outputs": [],
   "source": [
    "dframe2 = pd.DataFrame(C,columns=['timestamp1','call','arguments','timestamp2'])"
   ]
  },
  {
   "cell_type": "code",
   "execution_count": 331,
   "metadata": {
    "collapsed": false
   },
   "outputs": [
    {
     "data": {
      "text/html": [
       "<div>\n",
       "<table border=\"1\" class=\"dataframe\">\n",
       "  <thead>\n",
       "    <tr style=\"text-align: right;\">\n",
       "      <th></th>\n",
       "      <th>timestamp1</th>\n",
       "      <th>call</th>\n",
       "      <th>arguments</th>\n",
       "      <th>timestamp2</th>\n",
       "    </tr>\n",
       "  </thead>\n",
       "  <tbody>\n",
       "    <tr>\n",
       "      <th>0</th>\n",
       "      <td>1461864424</td>\n",
       "      <td>add</td>\n",
       "      <td>1,2,3,4</td>\n",
       "      <td>1461864423</td>\n",
       "    </tr>\n",
       "    <tr>\n",
       "      <th>1</th>\n",
       "      <td>1461864422</td>\n",
       "      <td>add</td>\n",
       "      <td>1,2,3,4</td>\n",
       "      <td>1461864421</td>\n",
       "    </tr>\n",
       "    <tr>\n",
       "      <th>2</th>\n",
       "      <td>1461864425</td>\n",
       "      <td>complex_operation</td>\n",
       "      <td>1,2,3,4</td>\n",
       "      <td>1461864417</td>\n",
       "    </tr>\n",
       "    <tr>\n",
       "      <th>3</th>\n",
       "      <td>1461864416</td>\n",
       "      <td>multiply</td>\n",
       "      <td>5,6,7,8,9</td>\n",
       "      <td>1461864415</td>\n",
       "    </tr>\n",
       "    <tr>\n",
       "      <th>4</th>\n",
       "      <td>1461864410</td>\n",
       "      <td>multiply</td>\n",
       "      <td>1,2,3,4</td>\n",
       "      <td>1461864409</td>\n",
       "    </tr>\n",
       "    <tr>\n",
       "      <th>5</th>\n",
       "      <td>1461864408</td>\n",
       "      <td>multiply</td>\n",
       "      <td>1,2,3,4</td>\n",
       "      <td>1461864407</td>\n",
       "    </tr>\n",
       "    <tr>\n",
       "      <th>6</th>\n",
       "      <td>1461864411</td>\n",
       "      <td>complex_operation</td>\n",
       "      <td>1,2,3,4</td>\n",
       "      <td>1461864404</td>\n",
       "    </tr>\n",
       "    <tr>\n",
       "      <th>7</th>\n",
       "      <td>1461864403</td>\n",
       "      <td>hello</td>\n",
       "      <td>world</td>\n",
       "      <td>1461864401</td>\n",
       "    </tr>\n",
       "  </tbody>\n",
       "</table>\n",
       "</div>"
      ],
      "text/plain": [
       "   timestamp1               call  arguments  timestamp2\n",
       "0  1461864424                add    1,2,3,4  1461864423\n",
       "1  1461864422                add    1,2,3,4  1461864421\n",
       "2  1461864425  complex_operation    1,2,3,4  1461864417\n",
       "3  1461864416           multiply  5,6,7,8,9  1461864415\n",
       "4  1461864410           multiply    1,2,3,4  1461864409\n",
       "5  1461864408           multiply    1,2,3,4  1461864407\n",
       "6  1461864411  complex_operation    1,2,3,4  1461864404\n",
       "7  1461864403              hello      world  1461864401"
      ]
     },
     "execution_count": 331,
     "metadata": {},
     "output_type": "execute_result"
    }
   ],
   "source": [
    "dframe2"
   ]
  },
  {
   "cell_type": "code",
   "execution_count": 332,
   "metadata": {
    "collapsed": false
   },
   "outputs": [],
   "source": [
    "dframe2['timestamp1'] = dframe2['timestamp1'].astype(int)\n",
    "dframe2['timestamp2'] = dframe2['timestamp2'].astype(int)\n",
    "dframe2['timestamp1']= dframe2['timestamp1'] - dframe2['timestamp2']"
   ]
  },
  {
   "cell_type": "code",
   "execution_count": 333,
   "metadata": {
    "collapsed": false
   },
   "outputs": [
    {
     "data": {
      "text/html": [
       "<div>\n",
       "<table border=\"1\" class=\"dataframe\">\n",
       "  <thead>\n",
       "    <tr style=\"text-align: right;\">\n",
       "      <th></th>\n",
       "      <th>timestamp1</th>\n",
       "      <th>call</th>\n",
       "      <th>arguments</th>\n",
       "      <th>timestamp2</th>\n",
       "    </tr>\n",
       "  </thead>\n",
       "  <tbody>\n",
       "    <tr>\n",
       "      <th>0</th>\n",
       "      <td>1</td>\n",
       "      <td>add</td>\n",
       "      <td>1,2,3,4</td>\n",
       "      <td>1461864423</td>\n",
       "    </tr>\n",
       "    <tr>\n",
       "      <th>1</th>\n",
       "      <td>1</td>\n",
       "      <td>add</td>\n",
       "      <td>1,2,3,4</td>\n",
       "      <td>1461864421</td>\n",
       "    </tr>\n",
       "    <tr>\n",
       "      <th>2</th>\n",
       "      <td>8</td>\n",
       "      <td>complex_operation</td>\n",
       "      <td>1,2,3,4</td>\n",
       "      <td>1461864417</td>\n",
       "    </tr>\n",
       "    <tr>\n",
       "      <th>3</th>\n",
       "      <td>1</td>\n",
       "      <td>multiply</td>\n",
       "      <td>5,6,7,8,9</td>\n",
       "      <td>1461864415</td>\n",
       "    </tr>\n",
       "    <tr>\n",
       "      <th>4</th>\n",
       "      <td>1</td>\n",
       "      <td>multiply</td>\n",
       "      <td>1,2,3,4</td>\n",
       "      <td>1461864409</td>\n",
       "    </tr>\n",
       "    <tr>\n",
       "      <th>5</th>\n",
       "      <td>1</td>\n",
       "      <td>multiply</td>\n",
       "      <td>1,2,3,4</td>\n",
       "      <td>1461864407</td>\n",
       "    </tr>\n",
       "    <tr>\n",
       "      <th>6</th>\n",
       "      <td>7</td>\n",
       "      <td>complex_operation</td>\n",
       "      <td>1,2,3,4</td>\n",
       "      <td>1461864404</td>\n",
       "    </tr>\n",
       "    <tr>\n",
       "      <th>7</th>\n",
       "      <td>2</td>\n",
       "      <td>hello</td>\n",
       "      <td>world</td>\n",
       "      <td>1461864401</td>\n",
       "    </tr>\n",
       "  </tbody>\n",
       "</table>\n",
       "</div>"
      ],
      "text/plain": [
       "   timestamp1               call  arguments  timestamp2\n",
       "0           1                add    1,2,3,4  1461864423\n",
       "1           1                add    1,2,3,4  1461864421\n",
       "2           8  complex_operation    1,2,3,4  1461864417\n",
       "3           1           multiply  5,6,7,8,9  1461864415\n",
       "4           1           multiply    1,2,3,4  1461864409\n",
       "5           1           multiply    1,2,3,4  1461864407\n",
       "6           7  complex_operation    1,2,3,4  1461864404\n",
       "7           2              hello      world  1461864401"
      ]
     },
     "execution_count": 333,
     "metadata": {},
     "output_type": "execute_result"
    }
   ],
   "source": [
    "dframe2"
   ]
  },
  {
   "cell_type": "code",
   "execution_count": 334,
   "metadata": {
    "collapsed": true
   },
   "outputs": [],
   "source": [
    "del dframe2['timestamp2']"
   ]
  },
  {
   "cell_type": "code",
   "execution_count": 335,
   "metadata": {
    "collapsed": false
   },
   "outputs": [
    {
     "data": {
      "text/html": [
       "<div>\n",
       "<table border=\"1\" class=\"dataframe\">\n",
       "  <thead>\n",
       "    <tr style=\"text-align: right;\">\n",
       "      <th></th>\n",
       "      <th>timestamp1</th>\n",
       "      <th>call</th>\n",
       "      <th>arguments</th>\n",
       "    </tr>\n",
       "  </thead>\n",
       "  <tbody>\n",
       "    <tr>\n",
       "      <th>0</th>\n",
       "      <td>1</td>\n",
       "      <td>add</td>\n",
       "      <td>1,2,3,4</td>\n",
       "    </tr>\n",
       "    <tr>\n",
       "      <th>1</th>\n",
       "      <td>1</td>\n",
       "      <td>add</td>\n",
       "      <td>1,2,3,4</td>\n",
       "    </tr>\n",
       "    <tr>\n",
       "      <th>2</th>\n",
       "      <td>8</td>\n",
       "      <td>complex_operation</td>\n",
       "      <td>1,2,3,4</td>\n",
       "    </tr>\n",
       "    <tr>\n",
       "      <th>3</th>\n",
       "      <td>1</td>\n",
       "      <td>multiply</td>\n",
       "      <td>5,6,7,8,9</td>\n",
       "    </tr>\n",
       "    <tr>\n",
       "      <th>4</th>\n",
       "      <td>1</td>\n",
       "      <td>multiply</td>\n",
       "      <td>1,2,3,4</td>\n",
       "    </tr>\n",
       "    <tr>\n",
       "      <th>5</th>\n",
       "      <td>1</td>\n",
       "      <td>multiply</td>\n",
       "      <td>1,2,3,4</td>\n",
       "    </tr>\n",
       "    <tr>\n",
       "      <th>6</th>\n",
       "      <td>7</td>\n",
       "      <td>complex_operation</td>\n",
       "      <td>1,2,3,4</td>\n",
       "    </tr>\n",
       "    <tr>\n",
       "      <th>7</th>\n",
       "      <td>2</td>\n",
       "      <td>hello</td>\n",
       "      <td>world</td>\n",
       "    </tr>\n",
       "  </tbody>\n",
       "</table>\n",
       "</div>"
      ],
      "text/plain": [
       "   timestamp1               call  arguments\n",
       "0           1                add    1,2,3,4\n",
       "1           1                add    1,2,3,4\n",
       "2           8  complex_operation    1,2,3,4\n",
       "3           1           multiply  5,6,7,8,9\n",
       "4           1           multiply    1,2,3,4\n",
       "5           1           multiply    1,2,3,4\n",
       "6           7  complex_operation    1,2,3,4\n",
       "7           2              hello      world"
      ]
     },
     "execution_count": 335,
     "metadata": {},
     "output_type": "execute_result"
    }
   ],
   "source": [
    "dframe2"
   ]
  },
  {
   "cell_type": "code",
   "execution_count": 336,
   "metadata": {
    "collapsed": false
   },
   "outputs": [
    {
     "data": {
      "text/plain": [
       "call               arguments\n",
       "add                1,2,3,4       2\n",
       "complex_operation  1,2,3,4      15\n",
       "hello              world         2\n",
       "multiply           1,2,3,4       2\n",
       "                   5,6,7,8,9     1\n",
       "dtype: int64"
      ]
     },
     "execution_count": 336,
     "metadata": {},
     "output_type": "execute_result"
    }
   ],
   "source": [
    "dframe2.groupby(['call', 'arguments']).apply(lambda x: x['timestamp1'].sum())\n",
    "\n"
   ]
  },
  {
   "cell_type": "code",
   "execution_count": null,
   "metadata": {
    "collapsed": true
   },
   "outputs": [],
   "source": []
  },
  {
   "cell_type": "code",
   "execution_count": null,
   "metadata": {
    "collapsed": true
   },
   "outputs": [],
   "source": []
  },
  {
   "cell_type": "code",
   "execution_count": null,
   "metadata": {
    "collapsed": true
   },
   "outputs": [],
   "source": []
  },
  {
   "cell_type": "code",
   "execution_count": null,
   "metadata": {
    "collapsed": true
   },
   "outputs": [],
   "source": []
  },
  {
   "cell_type": "code",
   "execution_count": null,
   "metadata": {
    "collapsed": true
   },
   "outputs": [],
   "source": []
  }
 ],
 "metadata": {
  "kernelspec": {
   "display_name": "Python 3",
   "language": "python",
   "name": "python3"
  },
  "language_info": {
   "codemirror_mode": {
    "name": "ipython",
    "version": 3
   },
   "file_extension": ".py",
   "mimetype": "text/x-python",
   "name": "python",
   "nbconvert_exporter": "python",
   "pygments_lexer": "ipython3",
   "version": "3.5.1"
  }
 },
 "nbformat": 4,
 "nbformat_minor": 0
}
