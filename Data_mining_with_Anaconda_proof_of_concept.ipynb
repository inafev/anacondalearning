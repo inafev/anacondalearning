{
 "cells": [
  {
   "cell_type": "markdown",
   "metadata": {},
   "source": [
    "# Proof of concept. Data mining of imported logfile content with Anaconda. Inaki Fernandez. November 2015\n",
    "\n",
    "- Environment: Anaconda 3 x86_64  for windows 10 x86_64 (Python3)\n",
    "- Python packages added:\n",
    "    - conda/pip install pandas_highcharts\n",
    "    - conda install seaborn\n",
    "- Installed Windows programs required for exporting this notebook to PDF: \n",
    "    - Pandoc\n",
    "    - TeX Live 2015 (LaTeX)\n",
    "- Motivation:\n",
    "    - This proof of concept was developed by the author during a recruitment process: a Python programming test to be completed in 3 hours. Only a first design with a basic prototype was delivered, but a couple of updates were handled over in the following days with the final outcome.\n",
    "    - The programing test was about importing a custom large log file where specific entries needed to be filtered out and imported for data mining purposes. \n",
    "    - The author of this notebook decided to deliver added value and develop a proof of concept based on Anaconda analytics instead of a traditional solution based on Python + vim + awk + sed.\n",
    "    - The 3 pages long detailed requirements are not included in order to preserve anonymity of the Company and privacy of their recruitment test. \n",
    "- Ideas for improvement:\n",
    "    - mmap module as the most efficient way to read large log files \n",
    "    - syslog module to deal with Syslog file rotation"
   ]
  },
  {
   "cell_type": "code",
   "execution_count": 58,
   "metadata": {
    "collapsed": false
   },
   "outputs": [
    {
     "name": "stdout",
     "output_type": "stream",
     "text": [
      "Populating the interactive namespace from numpy and matplotlib\n"
     ]
    },
    {
     "name": "stderr",
     "output_type": "stream",
     "text": [
      "WARNING: pylab import has clobbered these variables: ['info', 'draw_if_interactive', 'fft', 'linalg', 'power', 'random']\n",
      "`%matplotlib` prevents importing * from pylab and numpy\n"
     ]
    }
   ],
   "source": [
    "# Standard\n",
    "import tempfile\n",
    "import os\n",
    "import sys\n",
    "import pyparsing\n",
    "from pyparsing import Word, alphas, Suppress, Combine, nums, string, Optional, Regex, ParseException\n",
    "from datetime import datetime\n",
    "import pandas as pd\n",
    "import numpy as np\n",
    "from numpy.random import randn\n",
    "# Stats\n",
    "from scipy import stats\n",
    "from pylab import *\n",
    "# Plotting\n",
    "import matplotlib.pyplot as plt\n",
    "import matplotlib as mpl\n",
    "import seaborn as sns\n",
    "\n",
    "%pylab inline\n",
    "%matplotlib inline\n"
   ]
  },
  {
   "cell_type": "code",
   "execution_count": 59,
   "metadata": {
    "collapsed": false
   },
   "outputs": [],
   "source": [
    "logfilecontent = '''\n",
    "Feb 25 12:40:12 victim /opt/zl/bin/zdaemon[29412]: [zl::esink::Internals::timeout][/m0/zdaemon3]: Interval(5000): \\\n",
    "numCycles(173) numTimeouts(89) numMessages(241) numTMessages(2) numDescriptors(48) numPipes(0) task-events(0) num-timers(439) \n",
    "Feb 25 12:40:17 victim /opt/zl/bin/zdaemon[29412]: [zl::esink::Internals::timeout][/m0/zdaemon3]: Interval(5000): \\\n",
    "numCycles(17) numTimeouts(82) numMessages(247) numTMessages(3) numDescriptors(54) numPipes(0) task-events(0) num-timers(454)\n",
    "other logs 1\n",
    "Feb 25 12:40:22 victim /opt/zl/bin/zdaemon[29412]: [zl::esink::Internals::timeout][/m0/zdaemon3]: Interval(5000): \\\n",
    "numCycles(12) numTimeouts(2) numMessages(242) numTMessages(5) numDescriptors(67) numPipes(0) task-events(0) num-timers(499)\n",
    "Feb 25 12:40:27 victim /opt/zl/bin/zdaemon[29412]: [zl::esink::Internals::timeout][/m0/zdaemon3]: Interval(5000): \\\n",
    "numCycles(7) numTimeouts(32) numMessages(189) numTMessages(8) numDescriptors(60) numPipes(0) task-events(0) num-timers(413)\n",
    "Feb 25 12:40:32 victim /opt/zl/bin/zdaemon[29412]: [zl::esink::Internals::timeout][/m0/zdaemon3]: Interval(5000): \\\n",
    "numCycles(18) numTimeouts(21) numMessages(310) numTMessages(3) numDescriptors(78) numPipes(0) task-events(0) num-timers(505)\n",
    "other logs 2\n",
    "Feb 25 12:40:37 victim /opt/zl/bin/zdaemon[29412]: [zl::esink::Internals::timeout][/m0/zdaemon3]: Interval(5000): \\\n",
    "numCycles(22) numTimeouts(17) numMessages(233) numTMessages(6) numDescriptors(65) numPipes(0) task-events(0) num-timers(569)\n",
    "'''\n"
   ]
  },
  {
   "cell_type": "code",
   "execution_count": 60,
   "metadata": {
    "collapsed": false
   },
   "outputs": [],
   "source": [
    "month = Word(string.ascii_letters, string.ascii_letters, exact=3)\n",
    "integer = Word(nums)\n",
    "serverDateTime = Combine(month + \" \" + integer + \" \" + integer + \":\" + integer + \":\" + integer)\n",
    "hostname = Word(alphas + nums + \"_\" + \"-\")\n",
    "daemon = Word(alphas + \"/\" + \"-\" + \"_\" ) + Optional(Suppress(\"[\") + integer + Suppress(\"]\")) + Suppress(\":\")\n",
    "zl = Suppress(\"[\") + Word( alphas + \"::\" + alphas + \"::\" + alphas + \"::\" + alphas ) + Suppress(\"]\")\n",
    "m0 = Suppress(\"[\") + Word( alphas + nums + \"_\" + \"-\" + \"/\" ) + Suppress(\"]\") + Suppress(\":\")\n",
    "interval = Suppress(\"Interval\") + Suppress(\"(\") + Word(nums) + Suppress(\"):\") \n",
    "numCycles = Suppress(\"numCycles\") + Suppress(\"(\") + Word(nums) + Suppress(\")\") \n",
    "numTimeouts = Suppress(\"numTimeouts\") + Suppress(\"(\") + Word(nums) + Suppress(\")\")  \n",
    "numMessages = Suppress(\"numMessages\") + Suppress(\"(\") + Word(nums) + Suppress(\")\")  \n",
    "numTMessages = Suppress(\"numTMessages\") + Suppress(\"(\") + Word(nums) + Suppress(\")\") \n",
    "numDescriptors = Suppress(\"numDescriptors\") + Suppress(\"(\") + Word(nums) + Suppress(\")\") \n",
    "numPipes = Suppress(\"numPipes\") + Suppress(\"(\") + Word(nums) + Suppress(\")\") \n",
    "taskevents = Suppress(\"task-events\") + Suppress(\"(\") + Word(nums) + Suppress(\")\") \n",
    "numtimers = Suppress(\"num-timers\") + Suppress(\"(\") + Word(nums) + Suppress(\")\") \n",
    "bnf = (serverDateTime + hostname + daemon + zl + m0 + interval + numCycles + numTimeouts + \n",
    "       numMessages + numTMessages + numDescriptors + numPipes + taskevents + numtimers)\n"
   ]
  },
  {
   "cell_type": "code",
   "execution_count": 61,
   "metadata": {
    "collapsed": false
   },
   "outputs": [
    {
     "name": "stdout",
     "output_type": "stream",
     "text": [
      "[(['Feb 25 12:40:12', 'victim', '/opt/zl/bin/zdaemon', '29412', 'zl::esink::Internals::timeout', '/m0/zdaemon3', '5000', '173', '89', '241', '2', '48', '0', '0', '439'], {}), (['Feb 25 12:40:17', 'victim', '/opt/zl/bin/zdaemon', '29412', 'zl::esink::Internals::timeout', '/m0/zdaemon3', '5000', '17', '82', '247', '3', '54', '0', '0', '454'], {}), (['Feb 25 12:40:22', 'victim', '/opt/zl/bin/zdaemon', '29412', 'zl::esink::Internals::timeout', '/m0/zdaemon3', '5000', '12', '2', '242', '5', '67', '0', '0', '499'], {}), (['Feb 25 12:40:27', 'victim', '/opt/zl/bin/zdaemon', '29412', 'zl::esink::Internals::timeout', '/m0/zdaemon3', '5000', '7', '32', '189', '8', '60', '0', '0', '413'], {}), (['Feb 25 12:40:32', 'victim', '/opt/zl/bin/zdaemon', '29412', 'zl::esink::Internals::timeout', '/m0/zdaemon3', '5000', '18', '21', '310', '3', '78', '0', '0', '505'], {}), (['Feb 25 12:40:37', 'victim', '/opt/zl/bin/zdaemon', '29412', 'zl::esink::Internals::timeout', '/m0/zdaemon3', '5000', '22', '17', '233', '6', '65', '0', '0', '569'], {})]\n"
     ]
    }
   ],
   "source": [
    "def make_tempfile():\n",
    "    fd, temp_file_name = tempfile.mkstemp()\n",
    "    os.close(fd)\n",
    "    f = open(temp_file_name,'wt')\n",
    "    try:\n",
    "        f.write(logfilecontent)\n",
    "    finally:\n",
    "        f.close()\n",
    "    return temp_file_name\n",
    "\n",
    "def cleanup(filename):\n",
    "    os.unlink(filename)\n",
    "        \n",
    "filename = make_tempfile()\n",
    "\n",
    "L=list()\n",
    "with open(filename) as infile:\n",
    "   for line in infile:\n",
    "        try:\n",
    "           results = bnf.parseString(line)\n",
    "        except ParseException as pe:\n",
    "            continue\n",
    "        else:\n",
    "           L.append(results)\n",
    "           \n",
    "print(L)\n",
    "cleanup(filename)        "
   ]
  },
  {
   "cell_type": "code",
   "execution_count": 62,
   "metadata": {
    "collapsed": true
   },
   "outputs": [],
   "source": [
    "# Columns naming \n",
    "dframe = pd.DataFrame(L,columns=['serverDateTime','hostname','daemon','daemon-p','zl','m0','interval','numcycles',\n",
    "                                 'numtimeouts','nummessages','numtmessages','numdescriptors','numpipes','task-events',\n",
    "                                 'num-timers'])\n"
   ]
  },
  {
   "cell_type": "code",
   "execution_count": 63,
   "metadata": {
    "collapsed": true
   },
   "outputs": [],
   "source": [
    "# dtype conversion to integer\n",
    "dframe[['interval','numcycles','numtimeouts','nummessages','numtmessages','numdescriptors','numpipes','task-events',\n",
    "        'num-timers']] = dframe[['interval','numcycles','numtimeouts','nummessages','numtmessages','numdescriptors',\n",
    "                                 'numpipes','task-events','num-timers']].astype(int)\n",
    "       "
   ]
  },
  {
   "cell_type": "code",
   "execution_count": 64,
   "metadata": {
    "collapsed": false
   },
   "outputs": [
    {
     "data": {
      "text/html": [
       "<div>\n",
       "<table border=\"1\" class=\"dataframe\">\n",
       "  <thead>\n",
       "    <tr style=\"text-align: right;\">\n",
       "      <th></th>\n",
       "      <th>serverDateTime</th>\n",
       "      <th>hostname</th>\n",
       "      <th>daemon</th>\n",
       "      <th>daemon-p</th>\n",
       "      <th>zl</th>\n",
       "      <th>m0</th>\n",
       "      <th>interval</th>\n",
       "      <th>numcycles</th>\n",
       "      <th>numtimeouts</th>\n",
       "      <th>nummessages</th>\n",
       "      <th>numtmessages</th>\n",
       "      <th>numdescriptors</th>\n",
       "      <th>numpipes</th>\n",
       "      <th>task-events</th>\n",
       "      <th>num-timers</th>\n",
       "    </tr>\n",
       "  </thead>\n",
       "  <tbody>\n",
       "    <tr>\n",
       "      <th>0</th>\n",
       "      <td>Feb 25 12:40:12</td>\n",
       "      <td>victim</td>\n",
       "      <td>/opt/zl/bin/zdaemon</td>\n",
       "      <td>29412</td>\n",
       "      <td>zl::esink::Internals::timeout</td>\n",
       "      <td>/m0/zdaemon3</td>\n",
       "      <td>5000</td>\n",
       "      <td>173</td>\n",
       "      <td>89</td>\n",
       "      <td>241</td>\n",
       "      <td>2</td>\n",
       "      <td>48</td>\n",
       "      <td>0</td>\n",
       "      <td>0</td>\n",
       "      <td>439</td>\n",
       "    </tr>\n",
       "    <tr>\n",
       "      <th>1</th>\n",
       "      <td>Feb 25 12:40:17</td>\n",
       "      <td>victim</td>\n",
       "      <td>/opt/zl/bin/zdaemon</td>\n",
       "      <td>29412</td>\n",
       "      <td>zl::esink::Internals::timeout</td>\n",
       "      <td>/m0/zdaemon3</td>\n",
       "      <td>5000</td>\n",
       "      <td>17</td>\n",
       "      <td>82</td>\n",
       "      <td>247</td>\n",
       "      <td>3</td>\n",
       "      <td>54</td>\n",
       "      <td>0</td>\n",
       "      <td>0</td>\n",
       "      <td>454</td>\n",
       "    </tr>\n",
       "    <tr>\n",
       "      <th>2</th>\n",
       "      <td>Feb 25 12:40:22</td>\n",
       "      <td>victim</td>\n",
       "      <td>/opt/zl/bin/zdaemon</td>\n",
       "      <td>29412</td>\n",
       "      <td>zl::esink::Internals::timeout</td>\n",
       "      <td>/m0/zdaemon3</td>\n",
       "      <td>5000</td>\n",
       "      <td>12</td>\n",
       "      <td>2</td>\n",
       "      <td>242</td>\n",
       "      <td>5</td>\n",
       "      <td>67</td>\n",
       "      <td>0</td>\n",
       "      <td>0</td>\n",
       "      <td>499</td>\n",
       "    </tr>\n",
       "    <tr>\n",
       "      <th>3</th>\n",
       "      <td>Feb 25 12:40:27</td>\n",
       "      <td>victim</td>\n",
       "      <td>/opt/zl/bin/zdaemon</td>\n",
       "      <td>29412</td>\n",
       "      <td>zl::esink::Internals::timeout</td>\n",
       "      <td>/m0/zdaemon3</td>\n",
       "      <td>5000</td>\n",
       "      <td>7</td>\n",
       "      <td>32</td>\n",
       "      <td>189</td>\n",
       "      <td>8</td>\n",
       "      <td>60</td>\n",
       "      <td>0</td>\n",
       "      <td>0</td>\n",
       "      <td>413</td>\n",
       "    </tr>\n",
       "    <tr>\n",
       "      <th>4</th>\n",
       "      <td>Feb 25 12:40:32</td>\n",
       "      <td>victim</td>\n",
       "      <td>/opt/zl/bin/zdaemon</td>\n",
       "      <td>29412</td>\n",
       "      <td>zl::esink::Internals::timeout</td>\n",
       "      <td>/m0/zdaemon3</td>\n",
       "      <td>5000</td>\n",
       "      <td>18</td>\n",
       "      <td>21</td>\n",
       "      <td>310</td>\n",
       "      <td>3</td>\n",
       "      <td>78</td>\n",
       "      <td>0</td>\n",
       "      <td>0</td>\n",
       "      <td>505</td>\n",
       "    </tr>\n",
       "    <tr>\n",
       "      <th>5</th>\n",
       "      <td>Feb 25 12:40:37</td>\n",
       "      <td>victim</td>\n",
       "      <td>/opt/zl/bin/zdaemon</td>\n",
       "      <td>29412</td>\n",
       "      <td>zl::esink::Internals::timeout</td>\n",
       "      <td>/m0/zdaemon3</td>\n",
       "      <td>5000</td>\n",
       "      <td>22</td>\n",
       "      <td>17</td>\n",
       "      <td>233</td>\n",
       "      <td>6</td>\n",
       "      <td>65</td>\n",
       "      <td>0</td>\n",
       "      <td>0</td>\n",
       "      <td>569</td>\n",
       "    </tr>\n",
       "  </tbody>\n",
       "</table>\n",
       "</div>"
      ],
      "text/plain": [
       "    serverDateTime hostname               daemon daemon-p  \\\n",
       "0  Feb 25 12:40:12   victim  /opt/zl/bin/zdaemon    29412   \n",
       "1  Feb 25 12:40:17   victim  /opt/zl/bin/zdaemon    29412   \n",
       "2  Feb 25 12:40:22   victim  /opt/zl/bin/zdaemon    29412   \n",
       "3  Feb 25 12:40:27   victim  /opt/zl/bin/zdaemon    29412   \n",
       "4  Feb 25 12:40:32   victim  /opt/zl/bin/zdaemon    29412   \n",
       "5  Feb 25 12:40:37   victim  /opt/zl/bin/zdaemon    29412   \n",
       "\n",
       "                              zl            m0  interval  numcycles  \\\n",
       "0  zl::esink::Internals::timeout  /m0/zdaemon3      5000        173   \n",
       "1  zl::esink::Internals::timeout  /m0/zdaemon3      5000         17   \n",
       "2  zl::esink::Internals::timeout  /m0/zdaemon3      5000         12   \n",
       "3  zl::esink::Internals::timeout  /m0/zdaemon3      5000          7   \n",
       "4  zl::esink::Internals::timeout  /m0/zdaemon3      5000         18   \n",
       "5  zl::esink::Internals::timeout  /m0/zdaemon3      5000         22   \n",
       "\n",
       "   numtimeouts  nummessages  numtmessages  numdescriptors  numpipes  \\\n",
       "0           89          241             2              48         0   \n",
       "1           82          247             3              54         0   \n",
       "2            2          242             5              67         0   \n",
       "3           32          189             8              60         0   \n",
       "4           21          310             3              78         0   \n",
       "5           17          233             6              65         0   \n",
       "\n",
       "   task-events  num-timers  \n",
       "0            0         439  \n",
       "1            0         454  \n",
       "2            0         499  \n",
       "3            0         413  \n",
       "4            0         505  \n",
       "5            0         569  "
      ]
     },
     "execution_count": 64,
     "metadata": {},
     "output_type": "execute_result"
    }
   ],
   "source": [
    "dframe"
   ]
  },
  {
   "cell_type": "code",
   "execution_count": 65,
   "metadata": {
    "collapsed": false
   },
   "outputs": [
    {
     "data": {
      "text/plain": [
       "Index(['serverDateTime', 'hostname', 'daemon', 'daemon-p', 'zl', 'm0',\n",
       "       'interval', 'numcycles', 'numtimeouts', 'nummessages', 'numtmessages',\n",
       "       'numdescriptors', 'numpipes', 'task-events', 'num-timers'],\n",
       "      dtype='object')"
      ]
     },
     "execution_count": 65,
     "metadata": {},
     "output_type": "execute_result"
    }
   ],
   "source": [
    "dframe.columns"
   ]
  },
  {
   "cell_type": "code",
   "execution_count": 66,
   "metadata": {
    "collapsed": false
   },
   "outputs": [
    {
     "data": {
      "text/plain": [
       "Int64Index([0, 1, 2, 3, 4, 5], dtype='int64')"
      ]
     },
     "execution_count": 66,
     "metadata": {},
     "output_type": "execute_result"
    }
   ],
   "source": [
    "dframe.index"
   ]
  },
  {
   "cell_type": "code",
   "execution_count": 67,
   "metadata": {
    "collapsed": false
   },
   "outputs": [
    {
     "data": {
      "text/plain": [
       "Index(['serverDateTime', 'hostname', 'daemon', 'daemon-p', 'zl', 'm0',\n",
       "       'interval', 'numcycles', 'numtimeouts', 'nummessages', 'numtmessages',\n",
       "       'numdescriptors', 'numpipes', 'task-events', 'num-timers'],\n",
       "      dtype='object')"
      ]
     },
     "execution_count": 67,
     "metadata": {},
     "output_type": "execute_result"
    }
   ],
   "source": [
    "dframe.columns"
   ]
  },
  {
   "cell_type": "code",
   "execution_count": 68,
   "metadata": {
    "collapsed": false
   },
   "outputs": [
    {
     "data": {
      "text/plain": [
       "0    241\n",
       "1    247\n",
       "2    242\n",
       "3    189\n",
       "4    310\n",
       "5    233\n",
       "Name: nummessages, dtype: int32"
      ]
     },
     "execution_count": 68,
     "metadata": {},
     "output_type": "execute_result"
    }
   ],
   "source": [
    "dframe['nummessages']"
   ]
  },
  {
   "cell_type": "code",
   "execution_count": 69,
   "metadata": {
    "collapsed": false
   },
   "outputs": [],
   "source": [
    "sample_string2 = dframe['num-timers']"
   ]
  },
  {
   "cell_type": "code",
   "execution_count": 70,
   "metadata": {
    "collapsed": false
   },
   "outputs": [
    {
     "data": {
      "text/plain": [
       "0    439\n",
       "1    454\n",
       "2    499\n",
       "3    413\n",
       "4    505\n",
       "5    569\n",
       "Name: num-timers, dtype: int32"
      ]
     },
     "execution_count": 70,
     "metadata": {},
     "output_type": "execute_result"
    }
   ],
   "source": [
    "sample_string2"
   ]
  },
  {
   "cell_type": "code",
   "execution_count": 71,
   "metadata": {
    "collapsed": false
   },
   "outputs": [],
   "source": [
    "del dframe['hostname']\n",
    "del dframe['daemon']\n",
    "del dframe['daemon-p']\n",
    "del dframe['zl']\n",
    "del dframe['m0']\n",
    "del dframe['numpipes']\n",
    "del dframe['task-events']"
   ]
  },
  {
   "cell_type": "code",
   "execution_count": 72,
   "metadata": {
    "collapsed": false
   },
   "outputs": [
    {
     "data": {
      "text/html": [
       "<div>\n",
       "<table border=\"1\" class=\"dataframe\">\n",
       "  <thead>\n",
       "    <tr style=\"text-align: right;\">\n",
       "      <th></th>\n",
       "      <th>serverDateTime</th>\n",
       "      <th>interval</th>\n",
       "      <th>numcycles</th>\n",
       "      <th>numtimeouts</th>\n",
       "      <th>nummessages</th>\n",
       "      <th>numtmessages</th>\n",
       "      <th>numdescriptors</th>\n",
       "      <th>num-timers</th>\n",
       "    </tr>\n",
       "  </thead>\n",
       "  <tbody>\n",
       "    <tr>\n",
       "      <th>0</th>\n",
       "      <td>Feb 25 12:40:12</td>\n",
       "      <td>5000</td>\n",
       "      <td>173</td>\n",
       "      <td>89</td>\n",
       "      <td>241</td>\n",
       "      <td>2</td>\n",
       "      <td>48</td>\n",
       "      <td>439</td>\n",
       "    </tr>\n",
       "    <tr>\n",
       "      <th>1</th>\n",
       "      <td>Feb 25 12:40:17</td>\n",
       "      <td>5000</td>\n",
       "      <td>17</td>\n",
       "      <td>82</td>\n",
       "      <td>247</td>\n",
       "      <td>3</td>\n",
       "      <td>54</td>\n",
       "      <td>454</td>\n",
       "    </tr>\n",
       "    <tr>\n",
       "      <th>2</th>\n",
       "      <td>Feb 25 12:40:22</td>\n",
       "      <td>5000</td>\n",
       "      <td>12</td>\n",
       "      <td>2</td>\n",
       "      <td>242</td>\n",
       "      <td>5</td>\n",
       "      <td>67</td>\n",
       "      <td>499</td>\n",
       "    </tr>\n",
       "    <tr>\n",
       "      <th>3</th>\n",
       "      <td>Feb 25 12:40:27</td>\n",
       "      <td>5000</td>\n",
       "      <td>7</td>\n",
       "      <td>32</td>\n",
       "      <td>189</td>\n",
       "      <td>8</td>\n",
       "      <td>60</td>\n",
       "      <td>413</td>\n",
       "    </tr>\n",
       "    <tr>\n",
       "      <th>4</th>\n",
       "      <td>Feb 25 12:40:32</td>\n",
       "      <td>5000</td>\n",
       "      <td>18</td>\n",
       "      <td>21</td>\n",
       "      <td>310</td>\n",
       "      <td>3</td>\n",
       "      <td>78</td>\n",
       "      <td>505</td>\n",
       "    </tr>\n",
       "    <tr>\n",
       "      <th>5</th>\n",
       "      <td>Feb 25 12:40:37</td>\n",
       "      <td>5000</td>\n",
       "      <td>22</td>\n",
       "      <td>17</td>\n",
       "      <td>233</td>\n",
       "      <td>6</td>\n",
       "      <td>65</td>\n",
       "      <td>569</td>\n",
       "    </tr>\n",
       "  </tbody>\n",
       "</table>\n",
       "</div>"
      ],
      "text/plain": [
       "    serverDateTime  interval  numcycles  numtimeouts  nummessages  \\\n",
       "0  Feb 25 12:40:12      5000        173           89          241   \n",
       "1  Feb 25 12:40:17      5000         17           82          247   \n",
       "2  Feb 25 12:40:22      5000         12            2          242   \n",
       "3  Feb 25 12:40:27      5000          7           32          189   \n",
       "4  Feb 25 12:40:32      5000         18           21          310   \n",
       "5  Feb 25 12:40:37      5000         22           17          233   \n",
       "\n",
       "   numtmessages  numdescriptors  num-timers  \n",
       "0             2              48         439  \n",
       "1             3              54         454  \n",
       "2             5              67         499  \n",
       "3             8              60         413  \n",
       "4             3              78         505  \n",
       "5             6              65         569  "
      ]
     },
     "execution_count": 72,
     "metadata": {},
     "output_type": "execute_result"
    }
   ],
   "source": [
    "dframe"
   ]
  },
  {
   "cell_type": "code",
   "execution_count": 73,
   "metadata": {
    "collapsed": false
   },
   "outputs": [
    {
     "data": {
      "text/html": [
       "<div>\n",
       "<table border=\"1\" class=\"dataframe\">\n",
       "  <thead>\n",
       "    <tr style=\"text-align: right;\">\n",
       "      <th></th>\n",
       "      <th>nummessages</th>\n",
       "      <th>numtmessages</th>\n",
       "    </tr>\n",
       "  </thead>\n",
       "  <tbody>\n",
       "    <tr>\n",
       "      <th>0</th>\n",
       "      <td>241</td>\n",
       "      <td>2</td>\n",
       "    </tr>\n",
       "    <tr>\n",
       "      <th>1</th>\n",
       "      <td>247</td>\n",
       "      <td>3</td>\n",
       "    </tr>\n",
       "    <tr>\n",
       "      <th>2</th>\n",
       "      <td>242</td>\n",
       "      <td>5</td>\n",
       "    </tr>\n",
       "    <tr>\n",
       "      <th>3</th>\n",
       "      <td>189</td>\n",
       "      <td>8</td>\n",
       "    </tr>\n",
       "    <tr>\n",
       "      <th>4</th>\n",
       "      <td>310</td>\n",
       "      <td>3</td>\n",
       "    </tr>\n",
       "    <tr>\n",
       "      <th>5</th>\n",
       "      <td>233</td>\n",
       "      <td>6</td>\n",
       "    </tr>\n",
       "  </tbody>\n",
       "</table>\n",
       "</div>"
      ],
      "text/plain": [
       "   nummessages  numtmessages\n",
       "0          241             2\n",
       "1          247             3\n",
       "2          242             5\n",
       "3          189             8\n",
       "4          310             3\n",
       "5          233             6"
      ]
     },
     "execution_count": 73,
     "metadata": {},
     "output_type": "execute_result"
    }
   ],
   "source": [
    "dframe[['nummessages','numtmessages']]"
   ]
  },
  {
   "cell_type": "code",
   "execution_count": 74,
   "metadata": {
    "collapsed": false
   },
   "outputs": [],
   "source": [
    "dframe2 = pd.DataFrame(dframe,columns=['numcycles','numtimeouts','nummessages','numtmessages'])"
   ]
  },
  {
   "cell_type": "code",
   "execution_count": 75,
   "metadata": {
    "collapsed": false
   },
   "outputs": [
    {
     "data": {
      "text/html": [
       "<div>\n",
       "<table border=\"1\" class=\"dataframe\">\n",
       "  <thead>\n",
       "    <tr style=\"text-align: right;\">\n",
       "      <th></th>\n",
       "      <th>numcycles</th>\n",
       "      <th>numtimeouts</th>\n",
       "      <th>nummessages</th>\n",
       "      <th>numtmessages</th>\n",
       "    </tr>\n",
       "  </thead>\n",
       "  <tbody>\n",
       "    <tr>\n",
       "      <th>0</th>\n",
       "      <td>173</td>\n",
       "      <td>89</td>\n",
       "      <td>241</td>\n",
       "      <td>2</td>\n",
       "    </tr>\n",
       "    <tr>\n",
       "      <th>1</th>\n",
       "      <td>17</td>\n",
       "      <td>82</td>\n",
       "      <td>247</td>\n",
       "      <td>3</td>\n",
       "    </tr>\n",
       "    <tr>\n",
       "      <th>2</th>\n",
       "      <td>12</td>\n",
       "      <td>2</td>\n",
       "      <td>242</td>\n",
       "      <td>5</td>\n",
       "    </tr>\n",
       "    <tr>\n",
       "      <th>3</th>\n",
       "      <td>7</td>\n",
       "      <td>32</td>\n",
       "      <td>189</td>\n",
       "      <td>8</td>\n",
       "    </tr>\n",
       "    <tr>\n",
       "      <th>4</th>\n",
       "      <td>18</td>\n",
       "      <td>21</td>\n",
       "      <td>310</td>\n",
       "      <td>3</td>\n",
       "    </tr>\n",
       "    <tr>\n",
       "      <th>5</th>\n",
       "      <td>22</td>\n",
       "      <td>17</td>\n",
       "      <td>233</td>\n",
       "      <td>6</td>\n",
       "    </tr>\n",
       "  </tbody>\n",
       "</table>\n",
       "</div>"
      ],
      "text/plain": [
       "   numcycles  numtimeouts  nummessages  numtmessages\n",
       "0        173           89          241             2\n",
       "1         17           82          247             3\n",
       "2         12            2          242             5\n",
       "3          7           32          189             8\n",
       "4         18           21          310             3\n",
       "5         22           17          233             6"
      ]
     },
     "execution_count": 75,
     "metadata": {},
     "output_type": "execute_result"
    }
   ],
   "source": [
    "dframe2"
   ]
  },
  {
   "cell_type": "code",
   "execution_count": 76,
   "metadata": {
    "collapsed": false
   },
   "outputs": [
    {
     "data": {
      "text/html": [
       "<div>\n",
       "<table border=\"1\" class=\"dataframe\">\n",
       "  <thead>\n",
       "    <tr style=\"text-align: right;\">\n",
       "      <th></th>\n",
       "      <th>numcycles</th>\n",
       "      <th>numtimeouts</th>\n",
       "      <th>nummessages</th>\n",
       "      <th>numtmessages</th>\n",
       "    </tr>\n",
       "  </thead>\n",
       "  <tbody>\n",
       "    <tr>\n",
       "      <th>count</th>\n",
       "      <td>6.000000</td>\n",
       "      <td>6.000000</td>\n",
       "      <td>6.000000</td>\n",
       "      <td>6.000000</td>\n",
       "    </tr>\n",
       "    <tr>\n",
       "      <th>mean</th>\n",
       "      <td>41.500000</td>\n",
       "      <td>40.500000</td>\n",
       "      <td>243.666667</td>\n",
       "      <td>4.500000</td>\n",
       "    </tr>\n",
       "    <tr>\n",
       "      <th>std</th>\n",
       "      <td>64.630488</td>\n",
       "      <td>36.225681</td>\n",
       "      <td>38.790033</td>\n",
       "      <td>2.258318</td>\n",
       "    </tr>\n",
       "    <tr>\n",
       "      <th>min</th>\n",
       "      <td>7.000000</td>\n",
       "      <td>2.000000</td>\n",
       "      <td>189.000000</td>\n",
       "      <td>2.000000</td>\n",
       "    </tr>\n",
       "    <tr>\n",
       "      <th>25%</th>\n",
       "      <td>13.250000</td>\n",
       "      <td>18.000000</td>\n",
       "      <td>235.000000</td>\n",
       "      <td>3.000000</td>\n",
       "    </tr>\n",
       "    <tr>\n",
       "      <th>50%</th>\n",
       "      <td>17.500000</td>\n",
       "      <td>26.500000</td>\n",
       "      <td>241.500000</td>\n",
       "      <td>4.000000</td>\n",
       "    </tr>\n",
       "    <tr>\n",
       "      <th>75%</th>\n",
       "      <td>21.000000</td>\n",
       "      <td>69.500000</td>\n",
       "      <td>245.750000</td>\n",
       "      <td>5.750000</td>\n",
       "    </tr>\n",
       "    <tr>\n",
       "      <th>max</th>\n",
       "      <td>173.000000</td>\n",
       "      <td>89.000000</td>\n",
       "      <td>310.000000</td>\n",
       "      <td>8.000000</td>\n",
       "    </tr>\n",
       "  </tbody>\n",
       "</table>\n",
       "</div>"
      ],
      "text/plain": [
       "        numcycles  numtimeouts  nummessages  numtmessages\n",
       "count    6.000000     6.000000     6.000000      6.000000\n",
       "mean    41.500000    40.500000   243.666667      4.500000\n",
       "std     64.630488    36.225681    38.790033      2.258318\n",
       "min      7.000000     2.000000   189.000000      2.000000\n",
       "25%     13.250000    18.000000   235.000000      3.000000\n",
       "50%     17.500000    26.500000   241.500000      4.000000\n",
       "75%     21.000000    69.500000   245.750000      5.750000\n",
       "max    173.000000    89.000000   310.000000      8.000000"
      ]
     },
     "execution_count": 76,
     "metadata": {},
     "output_type": "execute_result"
    }
   ],
   "source": [
    "dframe2.describe()"
   ]
  },
  {
   "cell_type": "code",
   "execution_count": 77,
   "metadata": {
    "collapsed": false
   },
   "outputs": [
    {
     "data": {
      "text/plain": [
       "Int64Index([0, 1, 2, 3, 4, 5], dtype='int64')"
      ]
     },
     "execution_count": 77,
     "metadata": {},
     "output_type": "execute_result"
    }
   ],
   "source": [
    "dframe2.index"
   ]
  },
  {
   "cell_type": "markdown",
   "metadata": {},
   "source": [
    "## Plotting copied dataframe with specific columns"
   ]
  },
  {
   "cell_type": "code",
   "execution_count": 78,
   "metadata": {
    "collapsed": false
   },
   "outputs": [
    {
     "data": {
      "text/plain": [
       "<matplotlib.legend.Legend at 0x1cbb4a799b0>"
      ]
     },
     "execution_count": 78,
     "metadata": {},
     "output_type": "execute_result"
    },
    {
     "data": {
      "image/png": "[encoded data removed]",
      "text/plain": [
       "<matplotlib.figure.Figure at 0x1cbb4a7f550>"
      ]
     },
     "metadata": {},
     "output_type": "display_data"
    }
   ],
   "source": [
    "matplotlib.style.use('ggplot')\n",
    "rcParams['figure.figsize'] = 10, 5 # width, height in inches\n",
    "dframe2.plot()\n",
    "legend()"
   ]
  },
  {
   "cell_type": "code",
   "execution_count": 79,
   "metadata": {
    "collapsed": false
   },
   "outputs": [
    {
     "data": {
      "text/html": [
       "<div>\n",
       "<table border=\"1\" class=\"dataframe\">\n",
       "  <thead>\n",
       "    <tr style=\"text-align: right;\">\n",
       "      <th></th>\n",
       "      <th>serverDateTime</th>\n",
       "      <th>interval</th>\n",
       "      <th>numcycles</th>\n",
       "      <th>numtimeouts</th>\n",
       "      <th>nummessages</th>\n",
       "      <th>numtmessages</th>\n",
       "      <th>numdescriptors</th>\n",
       "      <th>num-timers</th>\n",
       "    </tr>\n",
       "  </thead>\n",
       "  <tbody>\n",
       "    <tr>\n",
       "      <th>0</th>\n",
       "      <td>Feb 25 12:40:12</td>\n",
       "      <td>5000</td>\n",
       "      <td>173</td>\n",
       "      <td>89</td>\n",
       "      <td>241</td>\n",
       "      <td>2</td>\n",
       "      <td>48</td>\n",
       "      <td>439</td>\n",
       "    </tr>\n",
       "    <tr>\n",
       "      <th>1</th>\n",
       "      <td>Feb 25 12:40:17</td>\n",
       "      <td>5000</td>\n",
       "      <td>17</td>\n",
       "      <td>82</td>\n",
       "      <td>247</td>\n",
       "      <td>3</td>\n",
       "      <td>54</td>\n",
       "      <td>454</td>\n",
       "    </tr>\n",
       "    <tr>\n",
       "      <th>2</th>\n",
       "      <td>Feb 25 12:40:22</td>\n",
       "      <td>5000</td>\n",
       "      <td>12</td>\n",
       "      <td>2</td>\n",
       "      <td>242</td>\n",
       "      <td>5</td>\n",
       "      <td>67</td>\n",
       "      <td>499</td>\n",
       "    </tr>\n",
       "    <tr>\n",
       "      <th>3</th>\n",
       "      <td>Feb 25 12:40:27</td>\n",
       "      <td>5000</td>\n",
       "      <td>7</td>\n",
       "      <td>32</td>\n",
       "      <td>189</td>\n",
       "      <td>8</td>\n",
       "      <td>60</td>\n",
       "      <td>413</td>\n",
       "    </tr>\n",
       "    <tr>\n",
       "      <th>4</th>\n",
       "      <td>Feb 25 12:40:32</td>\n",
       "      <td>5000</td>\n",
       "      <td>18</td>\n",
       "      <td>21</td>\n",
       "      <td>310</td>\n",
       "      <td>3</td>\n",
       "      <td>78</td>\n",
       "      <td>505</td>\n",
       "    </tr>\n",
       "    <tr>\n",
       "      <th>5</th>\n",
       "      <td>Feb 25 12:40:37</td>\n",
       "      <td>5000</td>\n",
       "      <td>22</td>\n",
       "      <td>17</td>\n",
       "      <td>233</td>\n",
       "      <td>6</td>\n",
       "      <td>65</td>\n",
       "      <td>569</td>\n",
       "    </tr>\n",
       "  </tbody>\n",
       "</table>\n",
       "</div>"
      ],
      "text/plain": [
       "    serverDateTime  interval  numcycles  numtimeouts  nummessages  \\\n",
       "0  Feb 25 12:40:12      5000        173           89          241   \n",
       "1  Feb 25 12:40:17      5000         17           82          247   \n",
       "2  Feb 25 12:40:22      5000         12            2          242   \n",
       "3  Feb 25 12:40:27      5000          7           32          189   \n",
       "4  Feb 25 12:40:32      5000         18           21          310   \n",
       "5  Feb 25 12:40:37      5000         22           17          233   \n",
       "\n",
       "   numtmessages  numdescriptors  num-timers  \n",
       "0             2              48         439  \n",
       "1             3              54         454  \n",
       "2             5              67         499  \n",
       "3             8              60         413  \n",
       "4             3              78         505  \n",
       "5             6              65         569  "
      ]
     },
     "execution_count": 79,
     "metadata": {},
     "output_type": "execute_result"
    }
   ],
   "source": [
    "dframe"
   ]
  },
  {
   "cell_type": "code",
   "execution_count": 80,
   "metadata": {
    "collapsed": false
   },
   "outputs": [
    {
     "data": {
      "text/plain": [
       "Int64Index([0, 1, 2, 3, 4, 5], dtype='int64')"
      ]
     },
     "execution_count": 80,
     "metadata": {},
     "output_type": "execute_result"
    }
   ],
   "source": [
    "dframe.index"
   ]
  },
  {
   "cell_type": "markdown",
   "metadata": {},
   "source": [
    "## Problem: Monitor should obtain the following information\n",
    " - The number of events per second for numCycles, numTimeouts, numMessages and numTMessages\n",
    " - The current value of numDescriptors and num-timers \n",
    " - Solution: DataFrame manipulation \n",
    " - Issue: serverDateTime is not in datetime format, pd.to_datetime will solve it although year is not specified in origin and Python's default year is 1900."
   ]
  },
  {
   "cell_type": "code",
   "execution_count": 81,
   "metadata": {
    "collapsed": false,
    "scrolled": true
   },
   "outputs": [
    {
     "data": {
      "text/plain": [
       "0   1900-02-25 12:40:12\n",
       "1   1900-02-25 12:40:17\n",
       "2   1900-02-25 12:40:22\n",
       "3   1900-02-25 12:40:27\n",
       "4   1900-02-25 12:40:32\n",
       "5   1900-02-25 12:40:37\n",
       "Name: serverDateTime, dtype: datetime64[ns]"
      ]
     },
     "execution_count": 81,
     "metadata": {},
     "output_type": "execute_result"
    }
   ],
   "source": [
    "dframe['interval'] = dframe['interval']/1000\n",
    "dframe['numcycles']=dframe['numcycles']/5\n",
    "dframe['numtimeouts']=dframe['numtimeouts']/5\n",
    "dframe['nummessages']=dframe['nummessages']/5\n",
    "dframe['numtmessages']=dframe['numtmessages']/5\n",
    "dframe['serverDateTime'] = pd.to_datetime(dframe['serverDateTime'],format='%b %d %H:%M:%S')\n",
    "dframe['serverDateTime'].dt.year\n",
    "dframe['serverDateTime']"
   ]
  },
  {
   "cell_type": "markdown",
   "metadata": {
    "collapsed": false
   },
   "source": [
    "- Trying to fix the year issue: Year is not specified in logs' timestamp and default year in Python is 1900.\n",
    "- Adding years to our current datetime is not valid as each year has a different amount of days. \n",
    "- The same applies to similar solutions\n",
    "\n",
    "    - daysToAdd = 365 * 115\n",
    "    - dframe['serverDateTime'] = dframe['serverDateTime'] + np.timedelta64(115, 'Y')\n",
    "    - dframe['serverDateTime'] = dframe['serverDateTime'] + np.timedelta64(daysToAdd, 'D')"
   ]
  },
  {
   "cell_type": "markdown",
   "metadata": {},
   "source": [
    "## Problem: Every 10 seconds, the program should emit all the counters to a file or a round-robin database for further processing and logging. \n",
    "- DatetimeIndex required for generating meaninful graphs and by dframe.resample\n",
    "- We setup serverDateTime column as index in order to use dframe.resample below (DatetimeIndex)"
   ]
  },
  {
   "cell_type": "code",
   "execution_count": 82,
   "metadata": {
    "collapsed": false
   },
   "outputs": [
    {
     "data": {
      "text/html": [
       "<div>\n",
       "<table border=\"1\" class=\"dataframe\">\n",
       "  <thead>\n",
       "    <tr style=\"text-align: right;\">\n",
       "      <th></th>\n",
       "      <th>serverDateTime</th>\n",
       "      <th>interval</th>\n",
       "      <th>numcycles</th>\n",
       "      <th>numtimeouts</th>\n",
       "      <th>nummessages</th>\n",
       "      <th>numtmessages</th>\n",
       "      <th>numdescriptors</th>\n",
       "      <th>num-timers</th>\n",
       "    </tr>\n",
       "    <tr>\n",
       "      <th>serverDateTime</th>\n",
       "      <th></th>\n",
       "      <th></th>\n",
       "      <th></th>\n",
       "      <th></th>\n",
       "      <th></th>\n",
       "      <th></th>\n",
       "      <th></th>\n",
       "      <th></th>\n",
       "    </tr>\n",
       "  </thead>\n",
       "  <tbody>\n",
       "    <tr>\n",
       "      <th>1900-02-25 12:40:12</th>\n",
       "      <td>1900-02-25 12:40:12</td>\n",
       "      <td>5</td>\n",
       "      <td>34.6</td>\n",
       "      <td>17.8</td>\n",
       "      <td>48.2</td>\n",
       "      <td>0.4</td>\n",
       "      <td>48</td>\n",
       "      <td>439</td>\n",
       "    </tr>\n",
       "    <tr>\n",
       "      <th>1900-02-25 12:40:17</th>\n",
       "      <td>1900-02-25 12:40:17</td>\n",
       "      <td>5</td>\n",
       "      <td>3.4</td>\n",
       "      <td>16.4</td>\n",
       "      <td>49.4</td>\n",
       "      <td>0.6</td>\n",
       "      <td>54</td>\n",
       "      <td>454</td>\n",
       "    </tr>\n",
       "    <tr>\n",
       "      <th>1900-02-25 12:40:22</th>\n",
       "      <td>1900-02-25 12:40:22</td>\n",
       "      <td>5</td>\n",
       "      <td>2.4</td>\n",
       "      <td>0.4</td>\n",
       "      <td>48.4</td>\n",
       "      <td>1.0</td>\n",
       "      <td>67</td>\n",
       "      <td>499</td>\n",
       "    </tr>\n",
       "    <tr>\n",
       "      <th>1900-02-25 12:40:27</th>\n",
       "      <td>1900-02-25 12:40:27</td>\n",
       "      <td>5</td>\n",
       "      <td>1.4</td>\n",
       "      <td>6.4</td>\n",
       "      <td>37.8</td>\n",
       "      <td>1.6</td>\n",
       "      <td>60</td>\n",
       "      <td>413</td>\n",
       "    </tr>\n",
       "    <tr>\n",
       "      <th>1900-02-25 12:40:32</th>\n",
       "      <td>1900-02-25 12:40:32</td>\n",
       "      <td>5</td>\n",
       "      <td>3.6</td>\n",
       "      <td>4.2</td>\n",
       "      <td>62.0</td>\n",
       "      <td>0.6</td>\n",
       "      <td>78</td>\n",
       "      <td>505</td>\n",
       "    </tr>\n",
       "    <tr>\n",
       "      <th>1900-02-25 12:40:37</th>\n",
       "      <td>1900-02-25 12:40:37</td>\n",
       "      <td>5</td>\n",
       "      <td>4.4</td>\n",
       "      <td>3.4</td>\n",
       "      <td>46.6</td>\n",
       "      <td>1.2</td>\n",
       "      <td>65</td>\n",
       "      <td>569</td>\n",
       "    </tr>\n",
       "  </tbody>\n",
       "</table>\n",
       "</div>"
      ],
      "text/plain": [
       "                         serverDateTime  interval  numcycles  numtimeouts  \\\n",
       "serverDateTime                                                              \n",
       "1900-02-25 12:40:12 1900-02-25 12:40:12         5       34.6         17.8   \n",
       "1900-02-25 12:40:17 1900-02-25 12:40:17         5        3.4         16.4   \n",
       "1900-02-25 12:40:22 1900-02-25 12:40:22         5        2.4          0.4   \n",
       "1900-02-25 12:40:27 1900-02-25 12:40:27         5        1.4          6.4   \n",
       "1900-02-25 12:40:32 1900-02-25 12:40:32         5        3.6          4.2   \n",
       "1900-02-25 12:40:37 1900-02-25 12:40:37         5        4.4          3.4   \n",
       "\n",
       "                     nummessages  numtmessages  numdescriptors  num-timers  \n",
       "serverDateTime                                                              \n",
       "1900-02-25 12:40:12         48.2           0.4              48         439  \n",
       "1900-02-25 12:40:17         49.4           0.6              54         454  \n",
       "1900-02-25 12:40:22         48.4           1.0              67         499  \n",
       "1900-02-25 12:40:27         37.8           1.6              60         413  \n",
       "1900-02-25 12:40:32         62.0           0.6              78         505  \n",
       "1900-02-25 12:40:37         46.6           1.2              65         569  "
      ]
     },
     "execution_count": 82,
     "metadata": {},
     "output_type": "execute_result"
    }
   ],
   "source": [
    "#dframe.set_index('serverDateTime', drop=False, verify_integrity=True)\n",
    "dframe.set_index('serverDateTime', drop=False, inplace=True)\n",
    "dframe"
   ]
  },
  {
   "cell_type": "code",
   "execution_count": 83,
   "metadata": {
    "collapsed": false
   },
   "outputs": [
    {
     "data": {
      "text/plain": [
       "DatetimeIndex(['1900-02-25 12:40:12', '1900-02-25 12:40:17',\n",
       "               '1900-02-25 12:40:22', '1900-02-25 12:40:27',\n",
       "               '1900-02-25 12:40:32', '1900-02-25 12:40:37'],\n",
       "              dtype='datetime64[ns]', name='serverDateTime', freq=None)"
      ]
     },
     "execution_count": 83,
     "metadata": {},
     "output_type": "execute_result"
    }
   ],
   "source": [
    "dframe.index"
   ]
  },
  {
   "cell_type": "markdown",
   "metadata": {},
   "source": [
    "### Pandas has simple, powerful, and efficient functionality for performing resampling operations during frequency conversion (e.g., converting secondly data into 5-minutely data). This is extremely common in, but not limited to, financial applications. See the Time Series section "
   ]
  },
  {
   "cell_type": "code",
   "execution_count": 84,
   "metadata": {
    "collapsed": false
   },
   "outputs": [
    {
     "data": {
      "text/html": [
       "<div>\n",
       "<table border=\"1\" class=\"dataframe\">\n",
       "  <thead>\n",
       "    <tr style=\"text-align: right;\">\n",
       "      <th></th>\n",
       "      <th>interval</th>\n",
       "      <th>numcycles</th>\n",
       "      <th>numtimeouts</th>\n",
       "      <th>nummessages</th>\n",
       "      <th>numtmessages</th>\n",
       "      <th>numdescriptors</th>\n",
       "      <th>num-timers</th>\n",
       "    </tr>\n",
       "    <tr>\n",
       "      <th>serverDateTime</th>\n",
       "      <th></th>\n",
       "      <th></th>\n",
       "      <th></th>\n",
       "      <th></th>\n",
       "      <th></th>\n",
       "      <th></th>\n",
       "      <th></th>\n",
       "    </tr>\n",
       "  </thead>\n",
       "  <tbody>\n",
       "    <tr>\n",
       "      <th>1900-02-25 12:40:10</th>\n",
       "      <td>5</td>\n",
       "      <td>19.0</td>\n",
       "      <td>17.1</td>\n",
       "      <td>48.8</td>\n",
       "      <td>0.5</td>\n",
       "      <td>51.0</td>\n",
       "      <td>446.5</td>\n",
       "    </tr>\n",
       "    <tr>\n",
       "      <th>1900-02-25 12:40:20</th>\n",
       "      <td>5</td>\n",
       "      <td>1.9</td>\n",
       "      <td>3.4</td>\n",
       "      <td>43.1</td>\n",
       "      <td>1.3</td>\n",
       "      <td>63.5</td>\n",
       "      <td>456.0</td>\n",
       "    </tr>\n",
       "    <tr>\n",
       "      <th>1900-02-25 12:40:30</th>\n",
       "      <td>5</td>\n",
       "      <td>4.0</td>\n",
       "      <td>3.8</td>\n",
       "      <td>54.3</td>\n",
       "      <td>0.9</td>\n",
       "      <td>71.5</td>\n",
       "      <td>537.0</td>\n",
       "    </tr>\n",
       "  </tbody>\n",
       "</table>\n",
       "</div>"
      ],
      "text/plain": [
       "                     interval  numcycles  numtimeouts  nummessages  \\\n",
       "serverDateTime                                                       \n",
       "1900-02-25 12:40:10         5       19.0         17.1         48.8   \n",
       "1900-02-25 12:40:20         5        1.9          3.4         43.1   \n",
       "1900-02-25 12:40:30         5        4.0          3.8         54.3   \n",
       "\n",
       "                     numtmessages  numdescriptors  num-timers  \n",
       "serverDateTime                                                 \n",
       "1900-02-25 12:40:10           0.5            51.0       446.5  \n",
       "1900-02-25 12:40:20           1.3            63.5       456.0  \n",
       "1900-02-25 12:40:30           0.9            71.5       537.0  "
      ]
     },
     "execution_count": 84,
     "metadata": {},
     "output_type": "execute_result"
    }
   ],
   "source": [
    "# DataFrame.resample will show NaN rows. We are copying dframe to a new one in order to avoid issues afterwards \n",
    "# (pd.notnull not working properly)\n",
    "\n",
    "dframe10s = dframe.copy(deep=True)\n",
    "#dframe.resample('10min', how='sum')\n",
    "#dframe10s.resample('10S', how='sum')   # 10S = 10 seconds\n",
    "dframe10s.resample('10S', how='mean')  # 10S = 10 seconds, mean = average\n",
    "#dframe10s[pd.notnull(dframe10s.resample('10S', how='mean'))]\n",
    "#dframe10s[np.isfinite(dframe10s.resample('10S', how='mean'))]"
   ]
  },
  {
   "cell_type": "code",
   "execution_count": 85,
   "metadata": {
    "collapsed": false
   },
   "outputs": [
    {
     "data": {
      "text/html": [
       "<div>\n",
       "<table border=\"1\" class=\"dataframe\">\n",
       "  <thead>\n",
       "    <tr style=\"text-align: right;\">\n",
       "      <th></th>\n",
       "      <th>serverDateTime</th>\n",
       "      <th>interval</th>\n",
       "      <th>numcycles</th>\n",
       "      <th>numtimeouts</th>\n",
       "      <th>nummessages</th>\n",
       "      <th>numtmessages</th>\n",
       "      <th>numdescriptors</th>\n",
       "      <th>num-timers</th>\n",
       "    </tr>\n",
       "    <tr>\n",
       "      <th>serverDateTime</th>\n",
       "      <th></th>\n",
       "      <th></th>\n",
       "      <th></th>\n",
       "      <th></th>\n",
       "      <th></th>\n",
       "      <th></th>\n",
       "      <th></th>\n",
       "      <th></th>\n",
       "    </tr>\n",
       "  </thead>\n",
       "  <tbody>\n",
       "    <tr>\n",
       "      <th>1900-02-25 12:40:12</th>\n",
       "      <td>1900-02-25 12:40:12</td>\n",
       "      <td>5</td>\n",
       "      <td>34.6</td>\n",
       "      <td>17.8</td>\n",
       "      <td>48.2</td>\n",
       "      <td>0.4</td>\n",
       "      <td>48</td>\n",
       "      <td>439</td>\n",
       "    </tr>\n",
       "    <tr>\n",
       "      <th>1900-02-25 12:40:17</th>\n",
       "      <td>1900-02-25 12:40:17</td>\n",
       "      <td>5</td>\n",
       "      <td>3.4</td>\n",
       "      <td>16.4</td>\n",
       "      <td>49.4</td>\n",
       "      <td>0.6</td>\n",
       "      <td>54</td>\n",
       "      <td>454</td>\n",
       "    </tr>\n",
       "    <tr>\n",
       "      <th>1900-02-25 12:40:22</th>\n",
       "      <td>1900-02-25 12:40:22</td>\n",
       "      <td>5</td>\n",
       "      <td>2.4</td>\n",
       "      <td>0.4</td>\n",
       "      <td>48.4</td>\n",
       "      <td>1.0</td>\n",
       "      <td>67</td>\n",
       "      <td>499</td>\n",
       "    </tr>\n",
       "    <tr>\n",
       "      <th>1900-02-25 12:40:27</th>\n",
       "      <td>1900-02-25 12:40:27</td>\n",
       "      <td>5</td>\n",
       "      <td>1.4</td>\n",
       "      <td>6.4</td>\n",
       "      <td>37.8</td>\n",
       "      <td>1.6</td>\n",
       "      <td>60</td>\n",
       "      <td>413</td>\n",
       "    </tr>\n",
       "    <tr>\n",
       "      <th>1900-02-25 12:40:32</th>\n",
       "      <td>1900-02-25 12:40:32</td>\n",
       "      <td>5</td>\n",
       "      <td>3.6</td>\n",
       "      <td>4.2</td>\n",
       "      <td>62.0</td>\n",
       "      <td>0.6</td>\n",
       "      <td>78</td>\n",
       "      <td>505</td>\n",
       "    </tr>\n",
       "    <tr>\n",
       "      <th>1900-02-25 12:40:37</th>\n",
       "      <td>1900-02-25 12:40:37</td>\n",
       "      <td>5</td>\n",
       "      <td>4.4</td>\n",
       "      <td>3.4</td>\n",
       "      <td>46.6</td>\n",
       "      <td>1.2</td>\n",
       "      <td>65</td>\n",
       "      <td>569</td>\n",
       "    </tr>\n",
       "  </tbody>\n",
       "</table>\n",
       "</div>"
      ],
      "text/plain": [
       "                         serverDateTime  interval  numcycles  numtimeouts  \\\n",
       "serverDateTime                                                              \n",
       "1900-02-25 12:40:12 1900-02-25 12:40:12         5       34.6         17.8   \n",
       "1900-02-25 12:40:17 1900-02-25 12:40:17         5        3.4         16.4   \n",
       "1900-02-25 12:40:22 1900-02-25 12:40:22         5        2.4          0.4   \n",
       "1900-02-25 12:40:27 1900-02-25 12:40:27         5        1.4          6.4   \n",
       "1900-02-25 12:40:32 1900-02-25 12:40:32         5        3.6          4.2   \n",
       "1900-02-25 12:40:37 1900-02-25 12:40:37         5        4.4          3.4   \n",
       "\n",
       "                     nummessages  numtmessages  numdescriptors  num-timers  \n",
       "serverDateTime                                                              \n",
       "1900-02-25 12:40:12         48.2           0.4              48         439  \n",
       "1900-02-25 12:40:17         49.4           0.6              54         454  \n",
       "1900-02-25 12:40:22         48.4           1.0              67         499  \n",
       "1900-02-25 12:40:27         37.8           1.6              60         413  \n",
       "1900-02-25 12:40:32         62.0           0.6              78         505  \n",
       "1900-02-25 12:40:37         46.6           1.2              65         569  "
      ]
     },
     "execution_count": 85,
     "metadata": {},
     "output_type": "execute_result"
    }
   ],
   "source": [
    "dframe"
   ]
  },
  {
   "cell_type": "code",
   "execution_count": 86,
   "metadata": {
    "collapsed": false
   },
   "outputs": [
    {
     "data": {
      "text/plain": [
       "DatetimeIndex(['1900-02-25 12:40:12', '1900-02-25 12:40:17',\n",
       "               '1900-02-25 12:40:22', '1900-02-25 12:40:27',\n",
       "               '1900-02-25 12:40:32', '1900-02-25 12:40:37'],\n",
       "              dtype='datetime64[ns]', name='serverDateTime', freq=None)"
      ]
     },
     "execution_count": 86,
     "metadata": {},
     "output_type": "execute_result"
    }
   ],
   "source": [
    "dframe.index"
   ]
  },
  {
   "cell_type": "markdown",
   "metadata": {},
   "source": [
    "### Groupby per hour:"
   ]
  },
  {
   "cell_type": "code",
   "execution_count": 87,
   "metadata": {
    "collapsed": false
   },
   "outputs": [
    {
     "data": {
      "text/html": [
       "<div>\n",
       "<table border=\"1\" class=\"dataframe\">\n",
       "  <thead>\n",
       "    <tr style=\"text-align: right;\">\n",
       "      <th></th>\n",
       "      <th>Period</th>\n",
       "      <th>numcycles</th>\n",
       "      <th>nummessages</th>\n",
       "      <th>numtimeouts</th>\n",
       "      <th>numtmessages</th>\n",
       "      <th>serverDateTime</th>\n",
       "    </tr>\n",
       "  </thead>\n",
       "  <tbody>\n",
       "    <tr>\n",
       "      <th>12</th>\n",
       "      <td>1900-02-25 - 1900-02-25</td>\n",
       "      <td>49.8</td>\n",
       "      <td>292.4</td>\n",
       "      <td>48.6</td>\n",
       "      <td>5.4</td>\n",
       "      <td>1900-02-25 12:40:17</td>\n",
       "    </tr>\n",
       "  </tbody>\n",
       "</table>\n",
       "</div>"
      ],
      "text/plain": [
       "                     Period  numcycles  nummessages  numtimeouts  \\\n",
       "12  1900-02-25 - 1900-02-25       49.8        292.4         48.6   \n",
       "\n",
       "    numtmessages      serverDateTime  \n",
       "12           5.4 1900-02-25 12:40:17  "
      ]
     },
     "execution_count": 87,
     "metadata": {},
     "output_type": "execute_result"
    }
   ],
   "source": [
    "def func(group):\n",
    "    return pd.Series({'numcycles': group.numcycles.sum(), 'numtimeouts': group.numtimeouts.sum(),\n",
    "        'nummessages': group.nummessages.sum(), 'numtmessages': group.numtmessages.sum(), 'serverDateTime': group.index[1], \n",
    "                      'Period': '{0} - {1}'.format(group.index[0].date(), group.index[-1].date())})\n",
    "\n",
    "dframe.groupby(lambda idx: idx.hour).apply(func)\n"
   ]
  },
  {
   "cell_type": "code",
   "execution_count": 88,
   "metadata": {
    "collapsed": false
   },
   "outputs": [
    {
     "data": {
      "text/html": [
       "<div>\n",
       "<table border=\"1\" class=\"dataframe\">\n",
       "  <thead>\n",
       "    <tr style=\"text-align: right;\">\n",
       "      <th></th>\n",
       "      <th>serverDateTime</th>\n",
       "      <th>interval</th>\n",
       "      <th>numcycles</th>\n",
       "      <th>numtimeouts</th>\n",
       "      <th>nummessages</th>\n",
       "      <th>numtmessages</th>\n",
       "      <th>numdescriptors</th>\n",
       "      <th>num-timers</th>\n",
       "    </tr>\n",
       "    <tr>\n",
       "      <th>serverDateTime</th>\n",
       "      <th></th>\n",
       "      <th></th>\n",
       "      <th></th>\n",
       "      <th></th>\n",
       "      <th></th>\n",
       "      <th></th>\n",
       "      <th></th>\n",
       "      <th></th>\n",
       "    </tr>\n",
       "  </thead>\n",
       "  <tbody>\n",
       "    <tr>\n",
       "      <th>1900-02-25 12:40:12</th>\n",
       "      <td>1900-02-25 12:40:12</td>\n",
       "      <td>5</td>\n",
       "      <td>34.6</td>\n",
       "      <td>17.8</td>\n",
       "      <td>48.2</td>\n",
       "      <td>0.4</td>\n",
       "      <td>48</td>\n",
       "      <td>439</td>\n",
       "    </tr>\n",
       "    <tr>\n",
       "      <th>1900-02-25 12:40:17</th>\n",
       "      <td>1900-02-25 12:40:17</td>\n",
       "      <td>5</td>\n",
       "      <td>3.4</td>\n",
       "      <td>16.4</td>\n",
       "      <td>49.4</td>\n",
       "      <td>0.6</td>\n",
       "      <td>54</td>\n",
       "      <td>454</td>\n",
       "    </tr>\n",
       "    <tr>\n",
       "      <th>1900-02-25 12:40:22</th>\n",
       "      <td>1900-02-25 12:40:22</td>\n",
       "      <td>5</td>\n",
       "      <td>2.4</td>\n",
       "      <td>0.4</td>\n",
       "      <td>48.4</td>\n",
       "      <td>1.0</td>\n",
       "      <td>67</td>\n",
       "      <td>499</td>\n",
       "    </tr>\n",
       "    <tr>\n",
       "      <th>1900-02-25 12:40:27</th>\n",
       "      <td>1900-02-25 12:40:27</td>\n",
       "      <td>5</td>\n",
       "      <td>1.4</td>\n",
       "      <td>6.4</td>\n",
       "      <td>37.8</td>\n",
       "      <td>1.6</td>\n",
       "      <td>60</td>\n",
       "      <td>413</td>\n",
       "    </tr>\n",
       "    <tr>\n",
       "      <th>1900-02-25 12:40:32</th>\n",
       "      <td>1900-02-25 12:40:32</td>\n",
       "      <td>5</td>\n",
       "      <td>3.6</td>\n",
       "      <td>4.2</td>\n",
       "      <td>62.0</td>\n",
       "      <td>0.6</td>\n",
       "      <td>78</td>\n",
       "      <td>505</td>\n",
       "    </tr>\n",
       "    <tr>\n",
       "      <th>1900-02-25 12:40:37</th>\n",
       "      <td>1900-02-25 12:40:37</td>\n",
       "      <td>5</td>\n",
       "      <td>4.4</td>\n",
       "      <td>3.4</td>\n",
       "      <td>46.6</td>\n",
       "      <td>1.2</td>\n",
       "      <td>65</td>\n",
       "      <td>569</td>\n",
       "    </tr>\n",
       "  </tbody>\n",
       "</table>\n",
       "</div>"
      ],
      "text/plain": [
       "                         serverDateTime  interval  numcycles  numtimeouts  \\\n",
       "serverDateTime                                                              \n",
       "1900-02-25 12:40:12 1900-02-25 12:40:12         5       34.6         17.8   \n",
       "1900-02-25 12:40:17 1900-02-25 12:40:17         5        3.4         16.4   \n",
       "1900-02-25 12:40:22 1900-02-25 12:40:22         5        2.4          0.4   \n",
       "1900-02-25 12:40:27 1900-02-25 12:40:27         5        1.4          6.4   \n",
       "1900-02-25 12:40:32 1900-02-25 12:40:32         5        3.6          4.2   \n",
       "1900-02-25 12:40:37 1900-02-25 12:40:37         5        4.4          3.4   \n",
       "\n",
       "                     nummessages  numtmessages  numdescriptors  num-timers  \n",
       "serverDateTime                                                              \n",
       "1900-02-25 12:40:12         48.2           0.4              48         439  \n",
       "1900-02-25 12:40:17         49.4           0.6              54         454  \n",
       "1900-02-25 12:40:22         48.4           1.0              67         499  \n",
       "1900-02-25 12:40:27         37.8           1.6              60         413  \n",
       "1900-02-25 12:40:32         62.0           0.6              78         505  \n",
       "1900-02-25 12:40:37         46.6           1.2              65         569  "
      ]
     },
     "execution_count": 88,
     "metadata": {},
     "output_type": "execute_result"
    }
   ],
   "source": [
    "dframe"
   ]
  },
  {
   "cell_type": "markdown",
   "metadata": {},
   "source": [
    "### resample 10 min"
   ]
  },
  {
   "cell_type": "code",
   "execution_count": 89,
   "metadata": {
    "collapsed": false
   },
   "outputs": [
    {
     "data": {
      "text/html": [
       "<div>\n",
       "<table border=\"1\" class=\"dataframe\">\n",
       "  <thead>\n",
       "    <tr style=\"text-align: right;\">\n",
       "      <th></th>\n",
       "      <th>interval</th>\n",
       "      <th>numcycles</th>\n",
       "      <th>numtimeouts</th>\n",
       "      <th>nummessages</th>\n",
       "      <th>numtmessages</th>\n",
       "      <th>numdescriptors</th>\n",
       "      <th>num-timers</th>\n",
       "    </tr>\n",
       "    <tr>\n",
       "      <th>serverDateTime</th>\n",
       "      <th></th>\n",
       "      <th></th>\n",
       "      <th></th>\n",
       "      <th></th>\n",
       "      <th></th>\n",
       "      <th></th>\n",
       "      <th></th>\n",
       "    </tr>\n",
       "  </thead>\n",
       "  <tbody>\n",
       "    <tr>\n",
       "      <th>1900-02-25 12:40:00</th>\n",
       "      <td>30</td>\n",
       "      <td>49.8</td>\n",
       "      <td>48.6</td>\n",
       "      <td>292.4</td>\n",
       "      <td>5.4</td>\n",
       "      <td>372</td>\n",
       "      <td>2879</td>\n",
       "    </tr>\n",
       "  </tbody>\n",
       "</table>\n",
       "</div>"
      ],
      "text/plain": [
       "                     interval  numcycles  numtimeouts  nummessages  \\\n",
       "serverDateTime                                                       \n",
       "1900-02-25 12:40:00        30       49.8         48.6        292.4   \n",
       "\n",
       "                     numtmessages  numdescriptors  num-timers  \n",
       "serverDateTime                                                 \n",
       "1900-02-25 12:40:00           5.4             372        2879  "
      ]
     },
     "execution_count": 89,
     "metadata": {},
     "output_type": "execute_result"
    }
   ],
   "source": [
    "dframe10min = dframe.copy(deep=True)\n",
    "dframe10min.resample('10min', how='sum')"
   ]
  },
  {
   "cell_type": "code",
   "execution_count": 90,
   "metadata": {
    "collapsed": false
   },
   "outputs": [
    {
     "data": {
      "text/html": [
       "<div>\n",
       "<table border=\"1\" class=\"dataframe\">\n",
       "  <thead>\n",
       "    <tr style=\"text-align: right;\">\n",
       "      <th></th>\n",
       "      <th>serverDateTime</th>\n",
       "      <th>interval</th>\n",
       "      <th>numcycles</th>\n",
       "      <th>numtimeouts</th>\n",
       "      <th>nummessages</th>\n",
       "      <th>numtmessages</th>\n",
       "      <th>numdescriptors</th>\n",
       "      <th>num-timers</th>\n",
       "    </tr>\n",
       "    <tr>\n",
       "      <th>serverDateTime</th>\n",
       "      <th></th>\n",
       "      <th></th>\n",
       "      <th></th>\n",
       "      <th></th>\n",
       "      <th></th>\n",
       "      <th></th>\n",
       "      <th></th>\n",
       "      <th></th>\n",
       "    </tr>\n",
       "  </thead>\n",
       "  <tbody>\n",
       "    <tr>\n",
       "      <th>1900-02-25 12:40:12</th>\n",
       "      <td>1900-02-25 12:40:12</td>\n",
       "      <td>5</td>\n",
       "      <td>34.6</td>\n",
       "      <td>17.8</td>\n",
       "      <td>48.2</td>\n",
       "      <td>0.4</td>\n",
       "      <td>48</td>\n",
       "      <td>439</td>\n",
       "    </tr>\n",
       "    <tr>\n",
       "      <th>1900-02-25 12:40:17</th>\n",
       "      <td>1900-02-25 12:40:17</td>\n",
       "      <td>5</td>\n",
       "      <td>3.4</td>\n",
       "      <td>16.4</td>\n",
       "      <td>49.4</td>\n",
       "      <td>0.6</td>\n",
       "      <td>54</td>\n",
       "      <td>454</td>\n",
       "    </tr>\n",
       "    <tr>\n",
       "      <th>1900-02-25 12:40:22</th>\n",
       "      <td>1900-02-25 12:40:22</td>\n",
       "      <td>5</td>\n",
       "      <td>2.4</td>\n",
       "      <td>0.4</td>\n",
       "      <td>48.4</td>\n",
       "      <td>1.0</td>\n",
       "      <td>67</td>\n",
       "      <td>499</td>\n",
       "    </tr>\n",
       "    <tr>\n",
       "      <th>1900-02-25 12:40:27</th>\n",
       "      <td>1900-02-25 12:40:27</td>\n",
       "      <td>5</td>\n",
       "      <td>1.4</td>\n",
       "      <td>6.4</td>\n",
       "      <td>37.8</td>\n",
       "      <td>1.6</td>\n",
       "      <td>60</td>\n",
       "      <td>413</td>\n",
       "    </tr>\n",
       "    <tr>\n",
       "      <th>1900-02-25 12:40:32</th>\n",
       "      <td>1900-02-25 12:40:32</td>\n",
       "      <td>5</td>\n",
       "      <td>3.6</td>\n",
       "      <td>4.2</td>\n",
       "      <td>62.0</td>\n",
       "      <td>0.6</td>\n",
       "      <td>78</td>\n",
       "      <td>505</td>\n",
       "    </tr>\n",
       "    <tr>\n",
       "      <th>1900-02-25 12:40:37</th>\n",
       "      <td>1900-02-25 12:40:37</td>\n",
       "      <td>5</td>\n",
       "      <td>4.4</td>\n",
       "      <td>3.4</td>\n",
       "      <td>46.6</td>\n",
       "      <td>1.2</td>\n",
       "      <td>65</td>\n",
       "      <td>569</td>\n",
       "    </tr>\n",
       "  </tbody>\n",
       "</table>\n",
       "</div>"
      ],
      "text/plain": [
       "                         serverDateTime  interval  numcycles  numtimeouts  \\\n",
       "serverDateTime                                                              \n",
       "1900-02-25 12:40:12 1900-02-25 12:40:12         5       34.6         17.8   \n",
       "1900-02-25 12:40:17 1900-02-25 12:40:17         5        3.4         16.4   \n",
       "1900-02-25 12:40:22 1900-02-25 12:40:22         5        2.4          0.4   \n",
       "1900-02-25 12:40:27 1900-02-25 12:40:27         5        1.4          6.4   \n",
       "1900-02-25 12:40:32 1900-02-25 12:40:32         5        3.6          4.2   \n",
       "1900-02-25 12:40:37 1900-02-25 12:40:37         5        4.4          3.4   \n",
       "\n",
       "                     nummessages  numtmessages  numdescriptors  num-timers  \n",
       "serverDateTime                                                              \n",
       "1900-02-25 12:40:12         48.2           0.4              48         439  \n",
       "1900-02-25 12:40:17         49.4           0.6              54         454  \n",
       "1900-02-25 12:40:22         48.4           1.0              67         499  \n",
       "1900-02-25 12:40:27         37.8           1.6              60         413  \n",
       "1900-02-25 12:40:32         62.0           0.6              78         505  \n",
       "1900-02-25 12:40:37         46.6           1.2              65         569  "
      ]
     },
     "execution_count": 90,
     "metadata": {},
     "output_type": "execute_result"
    }
   ],
   "source": [
    "dframe"
   ]
  },
  {
   "cell_type": "code",
   "execution_count": 91,
   "metadata": {
    "collapsed": false
   },
   "outputs": [
    {
     "data": {
      "text/plain": [
       "DatetimeIndex(['1900-02-25 12:40:12', '1900-02-25 12:40:17',\n",
       "               '1900-02-25 12:40:22', '1900-02-25 12:40:27',\n",
       "               '1900-02-25 12:40:32', '1900-02-25 12:40:37'],\n",
       "              dtype='datetime64[ns]', name='serverDateTime', freq=None)"
      ]
     },
     "execution_count": 91,
     "metadata": {},
     "output_type": "execute_result"
    }
   ],
   "source": [
    "dframe.index"
   ]
  },
  {
   "cell_type": "code",
   "execution_count": 92,
   "metadata": {
    "collapsed": false
   },
   "outputs": [
    {
     "data": {
      "text/plain": [
       "4.4     1\n",
       "3.6     1\n",
       "2.4     1\n",
       "3.4     1\n",
       "34.6    1\n",
       "1.4     1\n",
       "Name: numcycles, dtype: int64"
      ]
     },
     "execution_count": 92,
     "metadata": {},
     "output_type": "execute_result"
    }
   ],
   "source": [
    "dframe['numcycles'].value_counts()"
   ]
  },
  {
   "cell_type": "markdown",
   "metadata": {},
   "source": [
    "## Graphs \n",
    "### Plotting with matplotlib"
   ]
  },
  {
   "cell_type": "code",
   "execution_count": 93,
   "metadata": {
    "collapsed": false
   },
   "outputs": [],
   "source": [
    "rcParams['figure.figsize'] = 10, 5 # width, height in inches\n",
    "\n",
    "#df_s = dframe['numcycles'].resample('1S', how='sum')\n",
    "#df_s.plot()\n"
   ]
  },
  {
   "cell_type": "code",
   "execution_count": 94,
   "metadata": {
    "collapsed": false
   },
   "outputs": [
    {
     "data": {
      "text/plain": [
       "<matplotlib.legend.Legend at 0x1cbb3da92e8>"
      ]
     },
     "execution_count": 94,
     "metadata": {},
     "output_type": "execute_result"
    },
    {
     "data": {
      "image/png": "[encoded data removed]",
      "text/plain": [
       "<matplotlib.figure.Figure at 0x1cbb3da9e10>"
      ]
     },
     "metadata": {},
     "output_type": "display_data"
    }
   ],
   "source": [
    "dframe.plot()\n",
    "legend()"
   ]
  },
  {
   "cell_type": "code",
   "execution_count": 95,
   "metadata": {
    "collapsed": false
   },
   "outputs": [
    {
     "data": {
      "text/plain": [
       "<matplotlib.legend.Legend at 0x1cbb5c054a8>"
      ]
     },
     "execution_count": 95,
     "metadata": {},
     "output_type": "execute_result"
    },
    {
     "data": {
      "image/png": "[encoded data removed]",
      "text/plain": [
       "<matplotlib.figure.Figure at 0x1cbb5bf9cf8>"
      ]
     },
     "metadata": {},
     "output_type": "display_data"
    }
   ],
   "source": [
    "#dframe.resample(\"1D\", how=\"sum\")\n",
    "dframe['numcycles'].plot()\n",
    "legend()"
   ]
  },
  {
   "cell_type": "code",
   "execution_count": 96,
   "metadata": {
    "collapsed": false
   },
   "outputs": [
    {
     "data": {
      "text/plain": [
       "<matplotlib.figure.Figure at 0x1cbb4737978>"
      ]
     },
     "metadata": {},
     "output_type": "display_data"
    },
    {
     "data": {
      "image/png": "[encoded data removed]",
      "text/plain": [
       "<matplotlib.figure.Figure at 0x1cbb4730d30>"
      ]
     },
     "metadata": {},
     "output_type": "display_data"
    }
   ],
   "source": [
    "plt.figure();dframe.plot();"
   ]
  },
  {
   "cell_type": "code",
   "execution_count": 97,
   "metadata": {
    "collapsed": false
   },
   "outputs": [
    {
     "data": {
      "text/plain": [
       "<matplotlib.axes._subplots.AxesSubplot at 0x1cbb47e1a20>"
      ]
     },
     "execution_count": 97,
     "metadata": {},
     "output_type": "execute_result"
    },
    {
     "data": {
      "image/png": "[encoded data removed]",
      "text/plain": [
       "<matplotlib.figure.Figure at 0x1cbb481da58>"
      ]
     },
     "metadata": {},
     "output_type": "display_data"
    }
   ],
   "source": [
    "dframe.plot(x='serverDateTime',y='numdescriptors')"
   ]
  },
  {
   "cell_type": "markdown",
   "metadata": {},
   "source": [
    "## Plotting with Seaborn\n",
    "### Scatterplot"
   ]
  },
  {
   "cell_type": "code",
   "execution_count": 98,
   "metadata": {
    "collapsed": false
   },
   "outputs": [
    {
     "name": "stderr",
     "output_type": "stream",
     "text": [
      "C:\\Anaconda3\\lib\\site-packages\\matplotlib\\__init__.py:892: UserWarning: axes.color_cycle is deprecated and replaced with axes.prop_cycle; please use the latter.\n",
      "  warnings.warn(self.msg_depr % (key, alt_key))\n"
     ]
    },
    {
     "data": {
      "text/plain": [
       "<seaborn.axisgrid.FacetGrid at 0x1cbb5c2f6d8>"
      ]
     },
     "execution_count": 98,
     "metadata": {},
     "output_type": "execute_result"
    },
    {
     "data": {
      "image/png": "[encoded data removed]",
      "text/plain": [
       "<matplotlib.figure.Figure at 0x1cbb5c2fa58>"
      ]
     },
     "metadata": {},
     "output_type": "display_data"
    }
   ],
   "source": [
    "sns.lmplot('numtimeouts','nummessages', data=dframe, fit_reg=False)"
   ]
  },
  {
   "cell_type": "markdown",
   "metadata": {},
   "source": [
    "### Density Plot. Kernel density estimation"
   ]
  },
  {
   "cell_type": "code",
   "execution_count": 99,
   "metadata": {
    "collapsed": false
   },
   "outputs": [
    {
     "data": {
      "text/plain": [
       "<matplotlib.axes._subplots.AxesSubplot at 0x1cbb5f6aba8>"
      ]
     },
     "execution_count": 99,
     "metadata": {},
     "output_type": "execute_result"
    },
    {
     "data": {
      "image/png": "[encoded data removed]",
      "text/plain": [
       "<matplotlib.figure.Figure at 0x1cbb5f75240>"
      ]
     },
     "metadata": {},
     "output_type": "display_data"
    }
   ],
   "source": [
    "sns.kdeplot(dframe.nummessages)"
   ]
  },
  {
   "cell_type": "code",
   "execution_count": 100,
   "metadata": {
    "collapsed": false
   },
   "outputs": [
    {
     "data": {
      "text/plain": [
       "<matplotlib.axes._subplots.AxesSubplot at 0x1cbb47fba90>"
      ]
     },
     "execution_count": 100,
     "metadata": {},
     "output_type": "execute_result"
    },
    {
     "data": {
      "image/png": "[encoded data removed]",
      "text/plain": [
       "<matplotlib.figure.Figure at 0x1cbb47d05c0>"
      ]
     },
     "metadata": {},
     "output_type": "display_data"
    }
   ],
   "source": [
    "sns.kdeplot(dframe.nummessages, dframe.numtimeouts)"
   ]
  },
  {
   "cell_type": "code",
   "execution_count": 101,
   "metadata": {
    "collapsed": false
   },
   "outputs": [
    {
     "data": {
      "text/plain": [
       "<matplotlib.axes._subplots.AxesSubplot at 0x1cbb46eca90>"
      ]
     },
     "execution_count": 101,
     "metadata": {},
     "output_type": "execute_result"
    },
    {
     "data": {
      "image/png": "[encoded data removed]",
      "text/plain": [
       "<matplotlib.figure.Figure at 0x1cbb5fc7d30>"
      ]
     },
     "metadata": {},
     "output_type": "display_data"
    }
   ],
   "source": [
    "sns.distplot(dframe.nummessages)"
   ]
  },
  {
   "cell_type": "markdown",
   "metadata": {},
   "source": [
    "### Histogram"
   ]
  },
  {
   "cell_type": "code",
   "execution_count": 102,
   "metadata": {
    "collapsed": false
   },
   "outputs": [
    {
     "data": {
      "image/png": "[encoded data removed]",
      "text/plain": [
       "<matplotlib.figure.Figure at 0x1cbb5d1f3c8>"
      ]
     },
     "metadata": {},
     "output_type": "display_data"
    }
   ],
   "source": [
    "plt.hist(dframe.nummessages, alpha = .3)\n",
    "sns.rugplot(dframe.nummessages);"
   ]
  },
  {
   "cell_type": "markdown",
   "metadata": {},
   "source": [
    "### Violin Plot"
   ]
  },
  {
   "cell_type": "code",
   "execution_count": 103,
   "metadata": {
    "collapsed": false
   },
   "outputs": [
    {
     "name": "stderr",
     "output_type": "stream",
     "text": [
      "C:\\Anaconda3\\lib\\site-packages\\matplotlib\\__init__.py:892: UserWarning: axes.color_cycle is deprecated and replaced with axes.prop_cycle; please use the latter.\n",
      "  warnings.warn(self.msg_depr % (key, alt_key))\n"
     ]
    },
    {
     "data": {
      "text/plain": [
       "<matplotlib.axes._subplots.AxesSubplot at 0x1cbb5e74470>"
      ]
     },
     "execution_count": 103,
     "metadata": {},
     "output_type": "execute_result"
    },
    {
     "data": {
      "image/png": "[encoded data removed]",
      "text/plain": [
       "<matplotlib.figure.Figure at 0x1cbb5b008d0>"
      ]
     },
     "metadata": {},
     "output_type": "display_data"
    }
   ],
   "source": [
    "sns.violinplot([dframe.numtimeouts,dframe.nummessages])"
   ]
  },
  {
   "cell_type": "markdown",
   "metadata": {},
   "source": [
    "### Heatmap"
   ]
  },
  {
   "cell_type": "code",
   "execution_count": 104,
   "metadata": {
    "collapsed": false
   },
   "outputs": [
    {
     "data": {
      "text/plain": [
       "<matplotlib.axes._subplots.AxesSubplot at 0x1cbb5d1b208>"
      ]
     },
     "execution_count": 104,
     "metadata": {},
     "output_type": "execute_result"
    },
    {
     "data": {
      "image/png": "[encoded data removed]",
      "text/plain": [
       "<matplotlib.figure.Figure at 0x1cbb5d8f1d0>"
      ]
     },
     "metadata": {},
     "output_type": "display_data"
    }
   ],
   "source": [
    "sns.heatmap([dframe.numtimeouts,dframe.nummessages], annot=True, fmt=\"f\")"
   ]
  },
  {
   "cell_type": "markdown",
   "metadata": {},
   "source": [
    "## Plotting with Pandas Highcharts \n",
    "- conda/pip install pandas_highcharts"
   ]
  },
  {
   "cell_type": "code",
   "execution_count": 105,
   "metadata": {
    "collapsed": false
   },
   "outputs": [],
   "source": [
    "from pandas.compat import StringIO\n",
    "from pandas.io.common import urlopen\n",
    "from IPython.display import display, display_pretty, Javascript, HTML\n",
    "from pandas_highcharts.core import serialize\n",
    "from pandas_highcharts.display import display_charts"
   ]
  },
  {
   "cell_type": "code",
   "execution_count": 106,
   "metadata": {
    "collapsed": false
   },
   "outputs": [
    {
     "data": {
      "text/html": [
       "<div id=\"chart_idrPOPPirf\"</div>\n",
       "    <script type=\"text/javascript\">new Highcharts.Chart({\"title\":{\"text\":\"logs\"},\"chart\":{\"renderTo\":\"chart_idrPOPPirf\"},\"xAxis\":{\"title\":{\"text\":\"serverDateTime\"},\"type\":\"datetime\"},\"legend\":{\"enabled\":true},\"series\":[{\"name\":\"num-timers\",\"yAxis\":0,\"data\":[[-2204191188000,439],[-2204191183000,454],[-2204191178000,499],[-2204191173000,413],[-2204191168000,505],[-2204191163000,569]]},{\"name\":\"nummessages\",\"yAxis\":0,\"data\":[[-2204191188000,48.2],[-2204191183000,49.4],[-2204191178000,48.4],[-2204191173000,37.8],[-2204191168000,62.0],[-2204191163000,46.6]]},{\"name\":\"interval\",\"yAxis\":0,\"data\":[[-2204191188000,5.0],[-2204191183000,5.0],[-2204191178000,5.0],[-2204191173000,5.0],[-2204191168000,5.0],[-2204191163000,5.0]]},{\"name\":\"numtimeouts\",\"yAxis\":0,\"data\":[[-2204191188000,17.8],[-2204191183000,16.4],[-2204191178000,0.4],[-2204191173000,6.4],[-2204191168000,4.2],[-2204191163000,3.4]]},{\"name\":\"numcycles\",\"yAxis\":0,\"data\":[[-2204191188000,34.6],[-2204191183000,3.4],[-2204191178000,2.4],[-2204191173000,1.4],[-2204191168000,3.6],[-2204191163000,4.4]]},{\"name\":\"numtmessages\",\"yAxis\":0,\"data\":[[-2204191188000,0.4],[-2204191183000,0.6],[-2204191178000,1.0],[-2204191173000,1.6],[-2204191168000,0.6],[-2204191163000,1.2]]},{\"name\":\"numdescriptors\",\"yAxis\":0,\"data\":[[-2204191188000,48],[-2204191183000,54],[-2204191178000,67],[-2204191173000,60],[-2204191168000,78],[-2204191163000,65]]}],\"yAxis\":[{}]});</script>"
      ],
      "text/plain": [
       "<IPython.core.display.HTML object>"
      ]
     },
     "metadata": {},
     "output_type": "display_data"
    }
   ],
   "source": [
    "display_charts(dframe, title=\"logs\")"
   ]
  },
  {
   "cell_type": "code",
   "execution_count": 107,
   "metadata": {
    "collapsed": false
   },
   "outputs": [
    {
     "data": {
      "text/html": [
       "<div id=\"chart_idbgchXVgI\"</div>\n",
       "    <script type=\"text/javascript\">new Highcharts.Chart({\"title\":{\"text\":\"rate\"},\"chart\":{\"type\":\"column\",\"renderTo\":\"chart_idbgchXVgI\"},\"xAxis\":{\"title\":{\"text\":\"serverDateTime\"},\"type\":\"datetime\"},\"legend\":{\"enabled\":true},\"series\":[{\"name\":\"num-timers\",\"yAxis\":0,\"data\":[[-2204191188000,439],[-2204191183000,454],[-2204191178000,499],[-2204191173000,413],[-2204191168000,505],[-2204191163000,569]]},{\"name\":\"nummessages\",\"yAxis\":0,\"data\":[[-2204191188000,48.2],[-2204191183000,49.4],[-2204191178000,48.4],[-2204191173000,37.8],[-2204191168000,62.0],[-2204191163000,46.6]]},{\"name\":\"interval\",\"yAxis\":0,\"data\":[[-2204191188000,5.0],[-2204191183000,5.0],[-2204191178000,5.0],[-2204191173000,5.0],[-2204191168000,5.0],[-2204191163000,5.0]]},{\"name\":\"numtimeouts\",\"yAxis\":0,\"data\":[[-2204191188000,17.8],[-2204191183000,16.4],[-2204191178000,0.4],[-2204191173000,6.4],[-2204191168000,4.2],[-2204191163000,3.4]]},{\"name\":\"numcycles\",\"yAxis\":0,\"data\":[[-2204191188000,34.6],[-2204191183000,3.4],[-2204191178000,2.4],[-2204191173000,1.4],[-2204191168000,3.6],[-2204191163000,4.4]]},{\"name\":\"numtmessages\",\"yAxis\":0,\"data\":[[-2204191188000,0.4],[-2204191183000,0.6],[-2204191178000,1.0],[-2204191173000,1.6],[-2204191168000,0.6],[-2204191163000,1.2]]},{\"name\":\"numdescriptors\",\"yAxis\":0,\"data\":[[-2204191188000,48],[-2204191183000,54],[-2204191178000,67],[-2204191173000,60],[-2204191168000,78],[-2204191163000,65]]}],\"yAxis\":[{}]});</script>"
      ],
      "text/plain": [
       "<IPython.core.display.HTML object>"
      ]
     },
     "metadata": {},
     "output_type": "display_data"
    }
   ],
   "source": [
    "display_charts(dframe, kind=\"bar\", title=\"rate\")"
   ]
  },
  {
   "cell_type": "code",
   "execution_count": 108,
   "metadata": {
    "collapsed": false
   },
   "outputs": [
    {
     "data": {
      "text/html": [
       "<div id=\"chart_idXXUPdQzS\"</div>\n",
       "    <script type=\"text/javascript\">new Highcharts.Chart({\"title\":{\"text\":\"rate\"},\"chart\":{\"type\":\"bar\",\"renderTo\":\"chart_idXXUPdQzS\"},\"xAxis\":{\"title\":{\"text\":\"serverDateTime\"},\"type\":\"datetime\"},\"legend\":{\"enabled\":true},\"series\":[{\"name\":\"num-timers\",\"yAxis\":0,\"data\":[[-2204191188000,439],[-2204191183000,454],[-2204191178000,499],[-2204191173000,413],[-2204191168000,505],[-2204191163000,569]]},{\"name\":\"nummessages\",\"yAxis\":0,\"data\":[[-2204191188000,48.2],[-2204191183000,49.4],[-2204191178000,48.4],[-2204191173000,37.8],[-2204191168000,62.0],[-2204191163000,46.6]]},{\"name\":\"interval\",\"yAxis\":0,\"data\":[[-2204191188000,5.0],[-2204191183000,5.0],[-2204191178000,5.0],[-2204191173000,5.0],[-2204191168000,5.0],[-2204191163000,5.0]]},{\"name\":\"numtimeouts\",\"yAxis\":0,\"data\":[[-2204191188000,17.8],[-2204191183000,16.4],[-2204191178000,0.4],[-2204191173000,6.4],[-2204191168000,4.2],[-2204191163000,3.4]]},{\"name\":\"numcycles\",\"yAxis\":0,\"data\":[[-2204191188000,34.6],[-2204191183000,3.4],[-2204191178000,2.4],[-2204191173000,1.4],[-2204191168000,3.6],[-2204191163000,4.4]]},{\"name\":\"numtmessages\",\"yAxis\":0,\"data\":[[-2204191188000,0.4],[-2204191183000,0.6],[-2204191178000,1.0],[-2204191173000,1.6],[-2204191168000,0.6],[-2204191163000,1.2]]},{\"name\":\"numdescriptors\",\"yAxis\":0,\"data\":[[-2204191188000,48],[-2204191183000,54],[-2204191178000,67],[-2204191173000,60],[-2204191168000,78],[-2204191163000,65]]}],\"yAxis\":[{}]});</script>"
      ],
      "text/plain": [
       "<IPython.core.display.HTML object>"
      ]
     },
     "metadata": {},
     "output_type": "display_data"
    }
   ],
   "source": [
    "display_charts(dframe, kind=\"barh\", title=\"rate\")"
   ]
  },
  {
   "cell_type": "code",
   "execution_count": 109,
   "metadata": {
    "collapsed": false
   },
   "outputs": [
    {
     "data": {
      "text/html": [
       "<div id=\"chart_idhEUxdTSV\"</div>\n",
       "    <script type=\"text/javascript\">new Highcharts.Chart({\"title\":{\"text\":\"rate\"},\"chart\":{\"type\":\"column\",\"height\":700,\"renderTo\":\"chart_idhEUxdTSV\",\"width\":1000},\"xAxis\":{\"title\":{\"text\":\"serverDateTime\"},\"type\":\"datetime\"},\"legend\":{\"enabled\":null},\"series\":[{\"name\":\"num-timers\",\"yAxis\":0,\"data\":[[-2204191188000,439],[-2204191183000,454],[-2204191178000,499],[-2204191173000,413],[-2204191168000,505],[-2204191163000,569]]},{\"name\":\"nummessages\",\"yAxis\":0,\"data\":[[-2204191188000,48.2],[-2204191183000,49.4],[-2204191178000,48.4],[-2204191173000,37.8],[-2204191168000,62.0],[-2204191163000,46.6]]},{\"name\":\"interval\",\"yAxis\":0,\"data\":[[-2204191188000,5.0],[-2204191183000,5.0],[-2204191178000,5.0],[-2204191173000,5.0],[-2204191168000,5.0],[-2204191163000,5.0]]},{\"name\":\"numtimeouts\",\"yAxis\":0,\"data\":[[-2204191188000,17.8],[-2204191183000,16.4],[-2204191178000,0.4],[-2204191173000,6.4],[-2204191168000,4.2],[-2204191163000,3.4]]},{\"name\":\"numcycles\",\"yAxis\":0,\"data\":[[-2204191188000,34.6],[-2204191183000,3.4],[-2204191178000,2.4],[-2204191173000,1.4],[-2204191168000,3.6],[-2204191163000,4.4]]},{\"name\":\"numtmessages\",\"yAxis\":0,\"data\":[[-2204191188000,0.4],[-2204191183000,0.6],[-2204191178000,1.0],[-2204191173000,1.6],[-2204191168000,0.6],[-2204191163000,1.2]]},{\"name\":\"numdescriptors\",\"yAxis\":0,\"data\":[[-2204191188000,48],[-2204191183000,54],[-2204191178000,67],[-2204191173000,60],[-2204191168000,78],[-2204191163000,65]]}],\"yAxis\":[{}]});</script>"
      ],
      "text/plain": [
       "<IPython.core.display.HTML object>"
      ]
     },
     "metadata": {},
     "output_type": "display_data"
    }
   ],
   "source": [
    "display_charts(dframe, title=\"rate\", legend=None, kind=\"bar\", figsize = (1000, 700))"
   ]
  },
  {
   "cell_type": "code",
   "execution_count": 110,
   "metadata": {
    "collapsed": false
   },
   "outputs": [
    {
     "data": {
      "text/html": [
       "<div id=\"chart5\"</div>\n",
       "    <script type=\"text/javascript\">new Highcharts.Chart({\"title\":{\"text\":\"rate\"},\"chart\":{\"zoomType\":\"xy\",\"type\":\"column\",\"renderTo\":\"chart5\"},\"xAxis\":{\"title\":{\"text\":\"serverDateTime\"},\"type\":\"datetime\"},\"legend\":{\"enabled\":true},\"series\":[{\"name\":\"num-timers\",\"yAxis\":0,\"data\":[[-2204191188000,439],[-2204191183000,454],[-2204191178000,499],[-2204191173000,413],[-2204191168000,505],[-2204191163000,569]]},{\"name\":\"nummessages\",\"yAxis\":0,\"data\":[[-2204191188000,48.2],[-2204191183000,49.4],[-2204191178000,48.4],[-2204191173000,37.8],[-2204191168000,62.0],[-2204191163000,46.6]]},{\"name\":\"interval\",\"yAxis\":0,\"data\":[[-2204191188000,5.0],[-2204191183000,5.0],[-2204191178000,5.0],[-2204191173000,5.0],[-2204191168000,5.0],[-2204191163000,5.0]]},{\"name\":\"numtimeouts\",\"yAxis\":0,\"data\":[[-2204191188000,17.8],[-2204191183000,16.4],[-2204191178000,0.4],[-2204191173000,6.4],[-2204191168000,4.2],[-2204191163000,3.4]]},{\"name\":\"numcycles\",\"yAxis\":0,\"data\":[[-2204191188000,34.6],[-2204191183000,3.4],[-2204191178000,2.4],[-2204191173000,1.4],[-2204191168000,3.6],[-2204191163000,4.4]]},{\"name\":\"numtmessages\",\"yAxis\":0,\"data\":[[-2204191188000,0.4],[-2204191183000,0.6],[-2204191178000,1.0],[-2204191173000,1.6],[-2204191168000,0.6],[-2204191163000,1.2]]},{\"name\":\"numdescriptors\",\"yAxis\":0,\"data\":[[-2204191188000,48],[-2204191183000,54],[-2204191178000,67],[-2204191173000,60],[-2204191168000,78],[-2204191163000,65]]}],\"yAxis\":[{}]});</script>"
      ],
      "text/plain": [
       "<IPython.core.display.HTML object>"
      ]
     },
     "metadata": {},
     "output_type": "display_data"
    }
   ],
   "source": [
    "display_charts(dframe, title=\"rate\", kind=\"bar\", render_to=\"chart5\", zoom=\"xy\")"
   ]
  },
  {
   "cell_type": "markdown",
   "metadata": {
    "collapsed": false
   },
   "source": [
    "## Obtain some values related with the machine load.\n",
    "- There's no load average for the last 1, 5 and 15 minutes in my windows environment. In any case this is trivial task.\n",
    "    - import psutil\n",
    "    - mport os\n",
    "    - os.getloadavg()\n",
    "    - psutil.cpu_percent(percpu=True)\n"
   ]
  },
  {
   "cell_type": "markdown",
   "metadata": {},
   "source": [
    "## Configurable threshold on the aggregated counters"
   ]
  },
  {
   "cell_type": "code",
   "execution_count": 111,
   "metadata": {
    "collapsed": false
   },
   "outputs": [
    {
     "data": {
      "text/html": [
       "<div>\n",
       "<table border=\"1\" class=\"dataframe\">\n",
       "  <thead>\n",
       "    <tr style=\"text-align: right;\">\n",
       "      <th></th>\n",
       "      <th>serverDateTime</th>\n",
       "      <th>interval</th>\n",
       "      <th>numcycles</th>\n",
       "      <th>numtimeouts</th>\n",
       "      <th>nummessages</th>\n",
       "      <th>numtmessages</th>\n",
       "      <th>numdescriptors</th>\n",
       "      <th>num-timers</th>\n",
       "    </tr>\n",
       "    <tr>\n",
       "      <th>serverDateTime</th>\n",
       "      <th></th>\n",
       "      <th></th>\n",
       "      <th></th>\n",
       "      <th></th>\n",
       "      <th></th>\n",
       "      <th></th>\n",
       "      <th></th>\n",
       "      <th></th>\n",
       "    </tr>\n",
       "  </thead>\n",
       "  <tbody>\n",
       "    <tr>\n",
       "      <th>1900-02-25 12:40:17</th>\n",
       "      <td>1900-02-25 12:40:17</td>\n",
       "      <td>5</td>\n",
       "      <td>3.4</td>\n",
       "      <td>16.4</td>\n",
       "      <td>49.4</td>\n",
       "      <td>0.6</td>\n",
       "      <td>54</td>\n",
       "      <td>454</td>\n",
       "    </tr>\n",
       "    <tr>\n",
       "      <th>1900-02-25 12:40:27</th>\n",
       "      <td>1900-02-25 12:40:27</td>\n",
       "      <td>5</td>\n",
       "      <td>1.4</td>\n",
       "      <td>6.4</td>\n",
       "      <td>37.8</td>\n",
       "      <td>1.6</td>\n",
       "      <td>60</td>\n",
       "      <td>413</td>\n",
       "    </tr>\n",
       "  </tbody>\n",
       "</table>\n",
       "</div>"
      ],
      "text/plain": [
       "                         serverDateTime  interval  numcycles  numtimeouts  \\\n",
       "serverDateTime                                                              \n",
       "1900-02-25 12:40:17 1900-02-25 12:40:17         5        3.4         16.4   \n",
       "1900-02-25 12:40:27 1900-02-25 12:40:27         5        1.4          6.4   \n",
       "\n",
       "                     nummessages  numtmessages  numdescriptors  num-timers  \n",
       "serverDateTime                                                              \n",
       "1900-02-25 12:40:17         49.4           0.6              54         454  \n",
       "1900-02-25 12:40:27         37.8           1.6              60         413  "
      ]
     },
     "execution_count": 111,
     "metadata": {},
     "output_type": "execute_result"
    }
   ],
   "source": [
    "dframe[(dframe.numtimeouts < 17) & (dframe.numtimeouts > 5)] \n",
    "#dframe[(dframe.numtimeouts < 50) & (dframe.numtimeouts > 20)] [['numtimeouts']]"
   ]
  },
  {
   "cell_type": "markdown",
   "metadata": {},
   "source": [
    "## Configurable threshold on the aggregated counters"
   ]
  },
  {
   "cell_type": "code",
   "execution_count": 112,
   "metadata": {
    "collapsed": false
   },
   "outputs": [
    {
     "data": {
      "text/html": [
       "<div>\n",
       "<table border=\"1\" class=\"dataframe\">\n",
       "  <thead>\n",
       "    <tr style=\"text-align: right;\">\n",
       "      <th></th>\n",
       "      <th>serverDateTime</th>\n",
       "      <th>interval</th>\n",
       "      <th>numcycles</th>\n",
       "      <th>numtimeouts</th>\n",
       "      <th>nummessages</th>\n",
       "      <th>numtmessages</th>\n",
       "      <th>numdescriptors</th>\n",
       "      <th>num-timers</th>\n",
       "    </tr>\n",
       "    <tr>\n",
       "      <th>serverDateTime</th>\n",
       "      <th></th>\n",
       "      <th></th>\n",
       "      <th></th>\n",
       "      <th></th>\n",
       "      <th></th>\n",
       "      <th></th>\n",
       "      <th></th>\n",
       "      <th></th>\n",
       "    </tr>\n",
       "  </thead>\n",
       "  <tbody>\n",
       "    <tr>\n",
       "      <th>1900-02-25 12:40:12</th>\n",
       "      <td>1900-02-25 12:40:12</td>\n",
       "      <td>5</td>\n",
       "      <td>34.6</td>\n",
       "      <td>17.8</td>\n",
       "      <td>48.2</td>\n",
       "      <td>0.4</td>\n",
       "      <td>48</td>\n",
       "      <td>439</td>\n",
       "    </tr>\n",
       "    <tr>\n",
       "      <th>1900-02-25 12:40:17</th>\n",
       "      <td>1900-02-25 12:40:17</td>\n",
       "      <td>5</td>\n",
       "      <td>3.4</td>\n",
       "      <td>16.4</td>\n",
       "      <td>49.4</td>\n",
       "      <td>0.6</td>\n",
       "      <td>54</td>\n",
       "      <td>454</td>\n",
       "    </tr>\n",
       "    <tr>\n",
       "      <th>1900-02-25 12:40:27</th>\n",
       "      <td>1900-02-25 12:40:27</td>\n",
       "      <td>5</td>\n",
       "      <td>1.4</td>\n",
       "      <td>6.4</td>\n",
       "      <td>37.8</td>\n",
       "      <td>1.6</td>\n",
       "      <td>60</td>\n",
       "      <td>413</td>\n",
       "    </tr>\n",
       "  </tbody>\n",
       "</table>\n",
       "</div>"
      ],
      "text/plain": [
       "                         serverDateTime  interval  numcycles  numtimeouts  \\\n",
       "serverDateTime                                                              \n",
       "1900-02-25 12:40:12 1900-02-25 12:40:12         5       34.6         17.8   \n",
       "1900-02-25 12:40:17 1900-02-25 12:40:17         5        3.4         16.4   \n",
       "1900-02-25 12:40:27 1900-02-25 12:40:27         5        1.4          6.4   \n",
       "\n",
       "                     nummessages  numtmessages  numdescriptors  num-timers  \n",
       "serverDateTime                                                              \n",
       "1900-02-25 12:40:12         48.2           0.4              48         439  \n",
       "1900-02-25 12:40:17         49.4           0.6              54         454  \n",
       "1900-02-25 12:40:27         37.8           1.6              60         413  "
      ]
     },
     "execution_count": 112,
     "metadata": {},
     "output_type": "execute_result"
    }
   ],
   "source": [
    "dframe[dframe['numtimeouts']>6] "
   ]
  },
  {
   "cell_type": "markdown",
   "metadata": {},
   "source": [
    "### Threshold checking via a conditional statement"
   ]
  },
  {
   "cell_type": "code",
   "execution_count": 113,
   "metadata": {
    "collapsed": false
   },
   "outputs": [
    {
     "name": "stdout",
     "output_type": "stream",
     "text": [
      "DataFrame contains rows with numtimeouts bigger than threshold!\n"
     ]
    }
   ],
   "source": [
    "if ~dframe[dframe['numtimeouts']>6].empty:\n",
    "    print('DataFrame contains rows with numtimeouts bigger than threshold!')\n",
    "    \n",
    "#dframe3 = dframe[dframe['numtimeouts']>6]\n",
    "#dframe3 is not None and isinstance(dframe3, pd.DataFrame) and not dframe3.empty  "
   ]
  },
  {
   "cell_type": "markdown",
   "metadata": {},
   "source": [
    "### Display an index/row"
   ]
  },
  {
   "cell_type": "code",
   "execution_count": 114,
   "metadata": {
    "collapsed": false
   },
   "outputs": [
    {
     "data": {
      "text/html": [
       "<div>\n",
       "<table border=\"1\" class=\"dataframe\">\n",
       "  <thead>\n",
       "    <tr style=\"text-align: right;\">\n",
       "      <th></th>\n",
       "      <th>serverDateTime</th>\n",
       "      <th>interval</th>\n",
       "      <th>numcycles</th>\n",
       "      <th>numtimeouts</th>\n",
       "      <th>nummessages</th>\n",
       "      <th>numtmessages</th>\n",
       "      <th>numdescriptors</th>\n",
       "      <th>num-timers</th>\n",
       "    </tr>\n",
       "    <tr>\n",
       "      <th>serverDateTime</th>\n",
       "      <th></th>\n",
       "      <th></th>\n",
       "      <th></th>\n",
       "      <th></th>\n",
       "      <th></th>\n",
       "      <th></th>\n",
       "      <th></th>\n",
       "      <th></th>\n",
       "    </tr>\n",
       "  </thead>\n",
       "  <tbody>\n",
       "    <tr>\n",
       "      <th>1900-02-25 12:40:17</th>\n",
       "      <td>1900-02-25 12:40:17</td>\n",
       "      <td>5</td>\n",
       "      <td>3.4</td>\n",
       "      <td>16.4</td>\n",
       "      <td>49.4</td>\n",
       "      <td>0.6</td>\n",
       "      <td>54</td>\n",
       "      <td>454</td>\n",
       "    </tr>\n",
       "  </tbody>\n",
       "</table>\n",
       "</div>"
      ],
      "text/plain": [
       "                         serverDateTime  interval  numcycles  numtimeouts  \\\n",
       "serverDateTime                                                              \n",
       "1900-02-25 12:40:17 1900-02-25 12:40:17         5        3.4         16.4   \n",
       "\n",
       "                     nummessages  numtmessages  numdescriptors  num-timers  \n",
       "serverDateTime                                                              \n",
       "1900-02-25 12:40:17         49.4           0.6              54         454  "
      ]
     },
     "execution_count": 114,
     "metadata": {},
     "output_type": "execute_result"
    }
   ],
   "source": [
    "dframe.ix['1900-02-25 12:40:17']"
   ]
  },
  {
   "cell_type": "code",
   "execution_count": null,
   "metadata": {
    "collapsed": true
   },
   "outputs": [],
   "source": []
  }
 ],
 "metadata": {
  "kernelspec": {
   "display_name": "Python 3",
   "language": "python",
   "name": "python3"
  },
  "language_info": {
   "codemirror_mode": {
    "name": "ipython",
    "version": 3
   },
   "file_extension": ".py",
   "mimetype": "text/x-python",
   "name": "python",
   "nbconvert_exporter": "python",
   "pygments_lexer": "ipython3",
   "version": "3.5.0"
  }
 },
 "nbformat": 4,
 "nbformat_minor": 0
}
